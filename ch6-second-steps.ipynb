{
 "cells": [
  {
   "cell_type": "markdown",
   "metadata": {},
   "source": [
    "# Second Steps with DataFrame Class"
   ]
  },
  {
   "cell_type": "code",
   "execution_count": 1,
   "metadata": {},
   "outputs": [],
   "source": [
    "import numpy as np\n",
    "import pandas as pd"
   ]
  },
  {
   "cell_type": "code",
   "execution_count": 2,
   "metadata": {},
   "outputs": [
    {
     "data": {
      "text/plain": [
       "array([[-0.868766,  0.521888,  0.618314, -0.528101],\n",
       "       [ 0.873252, -1.435089, -0.135803, -0.058199],\n",
       "       [-0.034635, -0.208456, -0.234717,  0.339602],\n",
       "       [-0.685325,  0.398205,  0.545643, -0.753154],\n",
       "       [-0.60793 ,  1.427606,  0.182361,  0.470785],\n",
       "       [ 1.114116, -1.23138 ,  0.6115  , -0.764282],\n",
       "       [-0.141153, -0.014433,  1.445405,  1.151041],\n",
       "       [ 0.025712, -0.122128,  0.675746, -0.474325],\n",
       "       [-1.532938, -1.264808,  1.069457, -0.52292 ]])"
      ]
     },
     "execution_count": 2,
     "metadata": {},
     "output_type": "execute_result"
    }
   ],
   "source": [
    "a = np.random.standard_normal((9, 4))\n",
    "a.round(6)"
   ]
  },
  {
   "cell_type": "code",
   "execution_count": 3,
   "metadata": {},
   "outputs": [
    {
     "data": {
      "text/html": [
       "<div>\n",
       "<table border=\"1\" class=\"dataframe\">\n",
       "  <thead>\n",
       "    <tr style=\"text-align: right;\">\n",
       "      <th></th>\n",
       "      <th>0</th>\n",
       "      <th>1</th>\n",
       "      <th>2</th>\n",
       "      <th>3</th>\n",
       "    </tr>\n",
       "  </thead>\n",
       "  <tbody>\n",
       "    <tr>\n",
       "      <th>0</th>\n",
       "      <td>-0.868766</td>\n",
       "      <td>0.521888</td>\n",
       "      <td>0.618314</td>\n",
       "      <td>-0.528101</td>\n",
       "    </tr>\n",
       "    <tr>\n",
       "      <th>1</th>\n",
       "      <td>0.873252</td>\n",
       "      <td>-1.435089</td>\n",
       "      <td>-0.135803</td>\n",
       "      <td>-0.058199</td>\n",
       "    </tr>\n",
       "    <tr>\n",
       "      <th>2</th>\n",
       "      <td>-0.034635</td>\n",
       "      <td>-0.208456</td>\n",
       "      <td>-0.234717</td>\n",
       "      <td>0.339602</td>\n",
       "    </tr>\n",
       "    <tr>\n",
       "      <th>3</th>\n",
       "      <td>-0.685325</td>\n",
       "      <td>0.398205</td>\n",
       "      <td>0.545643</td>\n",
       "      <td>-0.753154</td>\n",
       "    </tr>\n",
       "    <tr>\n",
       "      <th>4</th>\n",
       "      <td>-0.607930</td>\n",
       "      <td>1.427606</td>\n",
       "      <td>0.182361</td>\n",
       "      <td>0.470785</td>\n",
       "    </tr>\n",
       "    <tr>\n",
       "      <th>5</th>\n",
       "      <td>1.114116</td>\n",
       "      <td>-1.231380</td>\n",
       "      <td>0.611500</td>\n",
       "      <td>-0.764282</td>\n",
       "    </tr>\n",
       "    <tr>\n",
       "      <th>6</th>\n",
       "      <td>-0.141153</td>\n",
       "      <td>-0.014433</td>\n",
       "      <td>1.445405</td>\n",
       "      <td>1.151041</td>\n",
       "    </tr>\n",
       "    <tr>\n",
       "      <th>7</th>\n",
       "      <td>0.025712</td>\n",
       "      <td>-0.122128</td>\n",
       "      <td>0.675746</td>\n",
       "      <td>-0.474325</td>\n",
       "    </tr>\n",
       "    <tr>\n",
       "      <th>8</th>\n",
       "      <td>-1.532938</td>\n",
       "      <td>-1.264808</td>\n",
       "      <td>1.069457</td>\n",
       "      <td>-0.522920</td>\n",
       "    </tr>\n",
       "  </tbody>\n",
       "</table>\n",
       "</div>"
      ],
      "text/plain": [
       "          0         1         2         3\n",
       "0 -0.868766  0.521888  0.618314 -0.528101\n",
       "1  0.873252 -1.435089 -0.135803 -0.058199\n",
       "2 -0.034635 -0.208456 -0.234717  0.339602\n",
       "3 -0.685325  0.398205  0.545643 -0.753154\n",
       "4 -0.607930  1.427606  0.182361  0.470785\n",
       "5  1.114116 -1.231380  0.611500 -0.764282\n",
       "6 -0.141153 -0.014433  1.445405  1.151041\n",
       "7  0.025712 -0.122128  0.675746 -0.474325\n",
       "8 -1.532938 -1.264808  1.069457 -0.522920"
      ]
     },
     "execution_count": 3,
     "metadata": {},
     "output_type": "execute_result"
    }
   ],
   "source": [
    "df = pd.DataFrame(a)\n",
    "df"
   ]
  },
  {
   "cell_type": "code",
   "execution_count": 4,
   "metadata": {},
   "outputs": [
    {
     "data": {
      "text/html": [
       "<div>\n",
       "<table border=\"1\" class=\"dataframe\">\n",
       "  <thead>\n",
       "    <tr style=\"text-align: right;\">\n",
       "      <th></th>\n",
       "      <th>No1</th>\n",
       "      <th>No2</th>\n",
       "      <th>No3</th>\n",
       "      <th>No4</th>\n",
       "    </tr>\n",
       "  </thead>\n",
       "  <tbody>\n",
       "    <tr>\n",
       "      <th>0</th>\n",
       "      <td>-0.868766</td>\n",
       "      <td>0.521888</td>\n",
       "      <td>0.618314</td>\n",
       "      <td>-0.528101</td>\n",
       "    </tr>\n",
       "    <tr>\n",
       "      <th>1</th>\n",
       "      <td>0.873252</td>\n",
       "      <td>-1.435089</td>\n",
       "      <td>-0.135803</td>\n",
       "      <td>-0.058199</td>\n",
       "    </tr>\n",
       "    <tr>\n",
       "      <th>2</th>\n",
       "      <td>-0.034635</td>\n",
       "      <td>-0.208456</td>\n",
       "      <td>-0.234717</td>\n",
       "      <td>0.339602</td>\n",
       "    </tr>\n",
       "    <tr>\n",
       "      <th>3</th>\n",
       "      <td>-0.685325</td>\n",
       "      <td>0.398205</td>\n",
       "      <td>0.545643</td>\n",
       "      <td>-0.753154</td>\n",
       "    </tr>\n",
       "    <tr>\n",
       "      <th>4</th>\n",
       "      <td>-0.607930</td>\n",
       "      <td>1.427606</td>\n",
       "      <td>0.182361</td>\n",
       "      <td>0.470785</td>\n",
       "    </tr>\n",
       "    <tr>\n",
       "      <th>5</th>\n",
       "      <td>1.114116</td>\n",
       "      <td>-1.231380</td>\n",
       "      <td>0.611500</td>\n",
       "      <td>-0.764282</td>\n",
       "    </tr>\n",
       "    <tr>\n",
       "      <th>6</th>\n",
       "      <td>-0.141153</td>\n",
       "      <td>-0.014433</td>\n",
       "      <td>1.445405</td>\n",
       "      <td>1.151041</td>\n",
       "    </tr>\n",
       "    <tr>\n",
       "      <th>7</th>\n",
       "      <td>0.025712</td>\n",
       "      <td>-0.122128</td>\n",
       "      <td>0.675746</td>\n",
       "      <td>-0.474325</td>\n",
       "    </tr>\n",
       "    <tr>\n",
       "      <th>8</th>\n",
       "      <td>-1.532938</td>\n",
       "      <td>-1.264808</td>\n",
       "      <td>1.069457</td>\n",
       "      <td>-0.522920</td>\n",
       "    </tr>\n",
       "  </tbody>\n",
       "</table>\n",
       "</div>"
      ],
      "text/plain": [
       "        No1       No2       No3       No4\n",
       "0 -0.868766  0.521888  0.618314 -0.528101\n",
       "1  0.873252 -1.435089 -0.135803 -0.058199\n",
       "2 -0.034635 -0.208456 -0.234717  0.339602\n",
       "3 -0.685325  0.398205  0.545643 -0.753154\n",
       "4 -0.607930  1.427606  0.182361  0.470785\n",
       "5  1.114116 -1.231380  0.611500 -0.764282\n",
       "6 -0.141153 -0.014433  1.445405  1.151041\n",
       "7  0.025712 -0.122128  0.675746 -0.474325\n",
       "8 -1.532938 -1.264808  1.069457 -0.522920"
      ]
     },
     "execution_count": 4,
     "metadata": {},
     "output_type": "execute_result"
    }
   ],
   "source": [
    "df.columns = ['No1', 'No2', 'No3', 'No4']\n",
    "df"
   ]
  },
  {
   "cell_type": "code",
   "execution_count": 5,
   "metadata": {},
   "outputs": [
    {
     "data": {
      "text/plain": [
       "0.39820457847775953"
      ]
     },
     "execution_count": 5,
     "metadata": {},
     "output_type": "execute_result"
    }
   ],
   "source": [
    "df['No2'][3]"
   ]
  },
  {
   "cell_type": "code",
   "execution_count": 6,
   "metadata": {},
   "outputs": [
    {
     "data": {
      "text/plain": [
       "DatetimeIndex(['2015-01-31', '2015-02-28', '2015-03-31', '2015-04-30',\n",
       "               '2015-05-31', '2015-06-30', '2015-07-31', '2015-08-31',\n",
       "               '2015-09-30'],\n",
       "              dtype='datetime64[ns]', name=u'date', freq='M')"
      ]
     },
     "execution_count": 6,
     "metadata": {},
     "output_type": "execute_result"
    }
   ],
   "source": [
    "dates = pd.date_range('2015-01-01', periods=9, freq='M', name='date')\n",
    "dates"
   ]
  },
  {
   "cell_type": "code",
   "execution_count": 7,
   "metadata": {},
   "outputs": [
    {
     "data": {
      "text/html": [
       "<div>\n",
       "<table border=\"1\" class=\"dataframe\">\n",
       "  <thead>\n",
       "    <tr style=\"text-align: right;\">\n",
       "      <th></th>\n",
       "      <th>No1</th>\n",
       "      <th>No2</th>\n",
       "      <th>No3</th>\n",
       "      <th>No4</th>\n",
       "    </tr>\n",
       "    <tr>\n",
       "      <th>date</th>\n",
       "      <th></th>\n",
       "      <th></th>\n",
       "      <th></th>\n",
       "      <th></th>\n",
       "    </tr>\n",
       "  </thead>\n",
       "  <tbody>\n",
       "    <tr>\n",
       "      <th>2015-01-31</th>\n",
       "      <td>-0.868766</td>\n",
       "      <td>0.521888</td>\n",
       "      <td>0.618314</td>\n",
       "      <td>-0.528101</td>\n",
       "    </tr>\n",
       "    <tr>\n",
       "      <th>2015-02-28</th>\n",
       "      <td>0.873252</td>\n",
       "      <td>-1.435089</td>\n",
       "      <td>-0.135803</td>\n",
       "      <td>-0.058199</td>\n",
       "    </tr>\n",
       "    <tr>\n",
       "      <th>2015-03-31</th>\n",
       "      <td>-0.034635</td>\n",
       "      <td>-0.208456</td>\n",
       "      <td>-0.234717</td>\n",
       "      <td>0.339602</td>\n",
       "    </tr>\n",
       "    <tr>\n",
       "      <th>2015-04-30</th>\n",
       "      <td>-0.685325</td>\n",
       "      <td>0.398205</td>\n",
       "      <td>0.545643</td>\n",
       "      <td>-0.753154</td>\n",
       "    </tr>\n",
       "    <tr>\n",
       "      <th>2015-05-31</th>\n",
       "      <td>-0.607930</td>\n",
       "      <td>1.427606</td>\n",
       "      <td>0.182361</td>\n",
       "      <td>0.470785</td>\n",
       "    </tr>\n",
       "    <tr>\n",
       "      <th>2015-06-30</th>\n",
       "      <td>1.114116</td>\n",
       "      <td>-1.231380</td>\n",
       "      <td>0.611500</td>\n",
       "      <td>-0.764282</td>\n",
       "    </tr>\n",
       "    <tr>\n",
       "      <th>2015-07-31</th>\n",
       "      <td>-0.141153</td>\n",
       "      <td>-0.014433</td>\n",
       "      <td>1.445405</td>\n",
       "      <td>1.151041</td>\n",
       "    </tr>\n",
       "    <tr>\n",
       "      <th>2015-08-31</th>\n",
       "      <td>0.025712</td>\n",
       "      <td>-0.122128</td>\n",
       "      <td>0.675746</td>\n",
       "      <td>-0.474325</td>\n",
       "    </tr>\n",
       "    <tr>\n",
       "      <th>2015-09-30</th>\n",
       "      <td>-1.532938</td>\n",
       "      <td>-1.264808</td>\n",
       "      <td>1.069457</td>\n",
       "      <td>-0.522920</td>\n",
       "    </tr>\n",
       "  </tbody>\n",
       "</table>\n",
       "</div>"
      ],
      "text/plain": [
       "                 No1       No2       No3       No4\n",
       "date                                              \n",
       "2015-01-31 -0.868766  0.521888  0.618314 -0.528101\n",
       "2015-02-28  0.873252 -1.435089 -0.135803 -0.058199\n",
       "2015-03-31 -0.034635 -0.208456 -0.234717  0.339602\n",
       "2015-04-30 -0.685325  0.398205  0.545643 -0.753154\n",
       "2015-05-31 -0.607930  1.427606  0.182361  0.470785\n",
       "2015-06-30  1.114116 -1.231380  0.611500 -0.764282\n",
       "2015-07-31 -0.141153 -0.014433  1.445405  1.151041\n",
       "2015-08-31  0.025712 -0.122128  0.675746 -0.474325\n",
       "2015-09-30 -1.532938 -1.264808  1.069457 -0.522920"
      ]
     },
     "execution_count": 7,
     "metadata": {},
     "output_type": "execute_result"
    }
   ],
   "source": [
    "df.index = dates\n",
    "df"
   ]
  },
  {
   "cell_type": "code",
   "execution_count": 8,
   "metadata": {},
   "outputs": [
    {
     "data": {
      "text/plain": [
       "array([[-0.868766,  0.521888,  0.618314, -0.528101],\n",
       "       [ 0.873252, -1.435089, -0.135803, -0.058199],\n",
       "       [-0.034635, -0.208456, -0.234717,  0.339602],\n",
       "       [-0.685325,  0.398205,  0.545643, -0.753154],\n",
       "       [-0.60793 ,  1.427606,  0.182361,  0.470785],\n",
       "       [ 1.114116, -1.23138 ,  0.6115  , -0.764282],\n",
       "       [-0.141153, -0.014433,  1.445405,  1.151041],\n",
       "       [ 0.025712, -0.122128,  0.675746, -0.474325],\n",
       "       [-1.532938, -1.264808,  1.069457, -0.52292 ]])"
      ]
     },
     "execution_count": 8,
     "metadata": {},
     "output_type": "execute_result"
    }
   ],
   "source": [
    "np.array(df).round(6)"
   ]
  },
  {
   "cell_type": "markdown",
   "metadata": {},
   "source": [
    "# Basic Analytics"
   ]
  },
  {
   "cell_type": "code",
   "execution_count": 9,
   "metadata": {},
   "outputs": [
    {
     "data": {
      "text/plain": [
       "No1   -1.857667\n",
       "No2   -1.928595\n",
       "No3    4.777905\n",
       "No4   -1.139553\n",
       "dtype: float64"
      ]
     },
     "execution_count": 9,
     "metadata": {},
     "output_type": "execute_result"
    }
   ],
   "source": [
    "df.sum()"
   ]
  },
  {
   "cell_type": "code",
   "execution_count": 10,
   "metadata": {},
   "outputs": [
    {
     "data": {
      "text/plain": [
       "No1   -0.206407\n",
       "No2   -0.214288\n",
       "No3    0.530878\n",
       "No4   -0.126617\n",
       "dtype: float64"
      ]
     },
     "execution_count": 10,
     "metadata": {},
     "output_type": "execute_result"
    }
   ],
   "source": [
    "df.mean()"
   ]
  },
  {
   "cell_type": "code",
   "execution_count": 11,
   "metadata": {},
   "outputs": [
    {
     "data": {
      "text/html": [
       "<div>\n",
       "<table border=\"1\" class=\"dataframe\">\n",
       "  <thead>\n",
       "    <tr style=\"text-align: right;\">\n",
       "      <th></th>\n",
       "      <th>No1</th>\n",
       "      <th>No2</th>\n",
       "      <th>No3</th>\n",
       "      <th>No4</th>\n",
       "    </tr>\n",
       "    <tr>\n",
       "      <th>date</th>\n",
       "      <th></th>\n",
       "      <th></th>\n",
       "      <th></th>\n",
       "      <th></th>\n",
       "    </tr>\n",
       "  </thead>\n",
       "  <tbody>\n",
       "    <tr>\n",
       "      <th>2015-01-31</th>\n",
       "      <td>-0.868766</td>\n",
       "      <td>0.521888</td>\n",
       "      <td>0.618314</td>\n",
       "      <td>-0.528101</td>\n",
       "    </tr>\n",
       "    <tr>\n",
       "      <th>2015-02-28</th>\n",
       "      <td>0.004486</td>\n",
       "      <td>-0.913201</td>\n",
       "      <td>0.482511</td>\n",
       "      <td>-0.586300</td>\n",
       "    </tr>\n",
       "    <tr>\n",
       "      <th>2015-03-31</th>\n",
       "      <td>-0.030149</td>\n",
       "      <td>-1.121657</td>\n",
       "      <td>0.247794</td>\n",
       "      <td>-0.246698</td>\n",
       "    </tr>\n",
       "    <tr>\n",
       "      <th>2015-04-30</th>\n",
       "      <td>-0.715473</td>\n",
       "      <td>-0.723452</td>\n",
       "      <td>0.793437</td>\n",
       "      <td>-0.999852</td>\n",
       "    </tr>\n",
       "    <tr>\n",
       "      <th>2015-05-31</th>\n",
       "      <td>-1.323404</td>\n",
       "      <td>0.704153</td>\n",
       "      <td>0.975797</td>\n",
       "      <td>-0.529067</td>\n",
       "    </tr>\n",
       "    <tr>\n",
       "      <th>2015-06-30</th>\n",
       "      <td>-0.209288</td>\n",
       "      <td>-0.527226</td>\n",
       "      <td>1.587297</td>\n",
       "      <td>-1.293349</td>\n",
       "    </tr>\n",
       "    <tr>\n",
       "      <th>2015-07-31</th>\n",
       "      <td>-0.350441</td>\n",
       "      <td>-0.541659</td>\n",
       "      <td>3.032703</td>\n",
       "      <td>-0.142308</td>\n",
       "    </tr>\n",
       "    <tr>\n",
       "      <th>2015-08-31</th>\n",
       "      <td>-0.324729</td>\n",
       "      <td>-0.663787</td>\n",
       "      <td>3.708449</td>\n",
       "      <td>-0.616633</td>\n",
       "    </tr>\n",
       "    <tr>\n",
       "      <th>2015-09-30</th>\n",
       "      <td>-1.857667</td>\n",
       "      <td>-1.928595</td>\n",
       "      <td>4.777905</td>\n",
       "      <td>-1.139553</td>\n",
       "    </tr>\n",
       "  </tbody>\n",
       "</table>\n",
       "</div>"
      ],
      "text/plain": [
       "                 No1       No2       No3       No4\n",
       "date                                              \n",
       "2015-01-31 -0.868766  0.521888  0.618314 -0.528101\n",
       "2015-02-28  0.004486 -0.913201  0.482511 -0.586300\n",
       "2015-03-31 -0.030149 -1.121657  0.247794 -0.246698\n",
       "2015-04-30 -0.715473 -0.723452  0.793437 -0.999852\n",
       "2015-05-31 -1.323404  0.704153  0.975797 -0.529067\n",
       "2015-06-30 -0.209288 -0.527226  1.587297 -1.293349\n",
       "2015-07-31 -0.350441 -0.541659  3.032703 -0.142308\n",
       "2015-08-31 -0.324729 -0.663787  3.708449 -0.616633\n",
       "2015-09-30 -1.857667 -1.928595  4.777905 -1.139553"
      ]
     },
     "execution_count": 11,
     "metadata": {},
     "output_type": "execute_result"
    }
   ],
   "source": [
    "df.cumsum()"
   ]
  },
  {
   "cell_type": "code",
   "execution_count": 12,
   "metadata": {},
   "outputs": [
    {
     "data": {
      "text/html": [
       "<div>\n",
       "<table border=\"1\" class=\"dataframe\">\n",
       "  <thead>\n",
       "    <tr style=\"text-align: right;\">\n",
       "      <th></th>\n",
       "      <th>No1</th>\n",
       "      <th>No2</th>\n",
       "      <th>No3</th>\n",
       "      <th>No4</th>\n",
       "    </tr>\n",
       "  </thead>\n",
       "  <tbody>\n",
       "    <tr>\n",
       "      <th>count</th>\n",
       "      <td>9.000000</td>\n",
       "      <td>9.000000</td>\n",
       "      <td>9.000000</td>\n",
       "      <td>9.000000</td>\n",
       "    </tr>\n",
       "    <tr>\n",
       "      <th>mean</th>\n",
       "      <td>-0.206407</td>\n",
       "      <td>-0.214288</td>\n",
       "      <td>0.530878</td>\n",
       "      <td>-0.126617</td>\n",
       "    </tr>\n",
       "    <tr>\n",
       "      <th>std</th>\n",
       "      <td>0.835619</td>\n",
       "      <td>0.954582</td>\n",
       "      <td>0.537801</td>\n",
       "      <td>0.656663</td>\n",
       "    </tr>\n",
       "    <tr>\n",
       "      <th>min</th>\n",
       "      <td>-1.532938</td>\n",
       "      <td>-1.435089</td>\n",
       "      <td>-0.234717</td>\n",
       "      <td>-0.764282</td>\n",
       "    </tr>\n",
       "    <tr>\n",
       "      <th>25%</th>\n",
       "      <td>-0.685325</td>\n",
       "      <td>-1.231380</td>\n",
       "      <td>0.182361</td>\n",
       "      <td>-0.528101</td>\n",
       "    </tr>\n",
       "    <tr>\n",
       "      <th>50%</th>\n",
       "      <td>-0.141153</td>\n",
       "      <td>-0.122128</td>\n",
       "      <td>0.611500</td>\n",
       "      <td>-0.474325</td>\n",
       "    </tr>\n",
       "    <tr>\n",
       "      <th>75%</th>\n",
       "      <td>0.025712</td>\n",
       "      <td>0.398205</td>\n",
       "      <td>0.675746</td>\n",
       "      <td>0.339602</td>\n",
       "    </tr>\n",
       "    <tr>\n",
       "      <th>max</th>\n",
       "      <td>1.114116</td>\n",
       "      <td>1.427606</td>\n",
       "      <td>1.445405</td>\n",
       "      <td>1.151041</td>\n",
       "    </tr>\n",
       "  </tbody>\n",
       "</table>\n",
       "</div>"
      ],
      "text/plain": [
       "            No1       No2       No3       No4\n",
       "count  9.000000  9.000000  9.000000  9.000000\n",
       "mean  -0.206407 -0.214288  0.530878 -0.126617\n",
       "std    0.835619  0.954582  0.537801  0.656663\n",
       "min   -1.532938 -1.435089 -0.234717 -0.764282\n",
       "25%   -0.685325 -1.231380  0.182361 -0.528101\n",
       "50%   -0.141153 -0.122128  0.611500 -0.474325\n",
       "75%    0.025712  0.398205  0.675746  0.339602\n",
       "max    1.114116  1.427606  1.445405  1.151041"
      ]
     },
     "execution_count": 12,
     "metadata": {},
     "output_type": "execute_result"
    }
   ],
   "source": [
    "df.describe()"
   ]
  },
  {
   "cell_type": "code",
   "execution_count": 13,
   "metadata": {},
   "outputs": [
    {
     "name": "stderr",
     "output_type": "stream",
     "text": [
      "/Library/Python/2.7/site-packages/ipykernel_launcher.py:1: RuntimeWarning: invalid value encountered in sqrt\n",
      "  \"\"\"Entry point for launching an IPython kernel.\n"
     ]
    },
    {
     "data": {
      "text/html": [
       "<div>\n",
       "<table border=\"1\" class=\"dataframe\">\n",
       "  <thead>\n",
       "    <tr style=\"text-align: right;\">\n",
       "      <th></th>\n",
       "      <th>No1</th>\n",
       "      <th>No2</th>\n",
       "      <th>No3</th>\n",
       "      <th>No4</th>\n",
       "    </tr>\n",
       "    <tr>\n",
       "      <th>date</th>\n",
       "      <th></th>\n",
       "      <th></th>\n",
       "      <th></th>\n",
       "      <th></th>\n",
       "    </tr>\n",
       "  </thead>\n",
       "  <tbody>\n",
       "    <tr>\n",
       "      <th>2015-01-31</th>\n",
       "      <td>NaN</td>\n",
       "      <td>0.722418</td>\n",
       "      <td>0.786330</td>\n",
       "      <td>NaN</td>\n",
       "    </tr>\n",
       "    <tr>\n",
       "      <th>2015-02-28</th>\n",
       "      <td>0.934480</td>\n",
       "      <td>NaN</td>\n",
       "      <td>NaN</td>\n",
       "      <td>NaN</td>\n",
       "    </tr>\n",
       "    <tr>\n",
       "      <th>2015-03-31</th>\n",
       "      <td>NaN</td>\n",
       "      <td>NaN</td>\n",
       "      <td>NaN</td>\n",
       "      <td>0.582754</td>\n",
       "    </tr>\n",
       "    <tr>\n",
       "      <th>2015-04-30</th>\n",
       "      <td>NaN</td>\n",
       "      <td>0.631035</td>\n",
       "      <td>0.738677</td>\n",
       "      <td>NaN</td>\n",
       "    </tr>\n",
       "    <tr>\n",
       "      <th>2015-05-31</th>\n",
       "      <td>NaN</td>\n",
       "      <td>1.194825</td>\n",
       "      <td>0.427037</td>\n",
       "      <td>0.686138</td>\n",
       "    </tr>\n",
       "    <tr>\n",
       "      <th>2015-06-30</th>\n",
       "      <td>1.055517</td>\n",
       "      <td>NaN</td>\n",
       "      <td>0.781985</td>\n",
       "      <td>NaN</td>\n",
       "    </tr>\n",
       "    <tr>\n",
       "      <th>2015-07-31</th>\n",
       "      <td>NaN</td>\n",
       "      <td>NaN</td>\n",
       "      <td>1.202250</td>\n",
       "      <td>1.072866</td>\n",
       "    </tr>\n",
       "    <tr>\n",
       "      <th>2015-08-31</th>\n",
       "      <td>0.160348</td>\n",
       "      <td>NaN</td>\n",
       "      <td>0.822038</td>\n",
       "      <td>NaN</td>\n",
       "    </tr>\n",
       "    <tr>\n",
       "      <th>2015-09-30</th>\n",
       "      <td>NaN</td>\n",
       "      <td>NaN</td>\n",
       "      <td>1.034145</td>\n",
       "      <td>NaN</td>\n",
       "    </tr>\n",
       "  </tbody>\n",
       "</table>\n",
       "</div>"
      ],
      "text/plain": [
       "                 No1       No2       No3       No4\n",
       "date                                              \n",
       "2015-01-31       NaN  0.722418  0.786330       NaN\n",
       "2015-02-28  0.934480       NaN       NaN       NaN\n",
       "2015-03-31       NaN       NaN       NaN  0.582754\n",
       "2015-04-30       NaN  0.631035  0.738677       NaN\n",
       "2015-05-31       NaN  1.194825  0.427037  0.686138\n",
       "2015-06-30  1.055517       NaN  0.781985       NaN\n",
       "2015-07-31       NaN       NaN  1.202250  1.072866\n",
       "2015-08-31  0.160348       NaN  0.822038       NaN\n",
       "2015-09-30       NaN       NaN  1.034145       NaN"
      ]
     },
     "execution_count": 13,
     "metadata": {},
     "output_type": "execute_result"
    }
   ],
   "source": [
    "np.sqrt(df)"
   ]
  },
  {
   "cell_type": "code",
   "execution_count": 14,
   "metadata": {},
   "outputs": [
    {
     "name": "stderr",
     "output_type": "stream",
     "text": [
      "/Library/Python/2.7/site-packages/ipykernel_launcher.py:1: RuntimeWarning: invalid value encountered in sqrt\n",
      "  \"\"\"Entry point for launching an IPython kernel.\n"
     ]
    },
    {
     "data": {
      "text/plain": [
       "No1    2.150345\n",
       "No2    2.548277\n",
       "No3    5.792461\n",
       "No4    2.341758\n",
       "dtype: float64"
      ]
     },
     "execution_count": 14,
     "metadata": {},
     "output_type": "execute_result"
    }
   ],
   "source": [
    "np.sqrt(df).sum()"
   ]
  },
  {
   "cell_type": "code",
   "execution_count": 15,
   "metadata": {},
   "outputs": [
    {
     "data": {
      "text/plain": [
       "<matplotlib.axes.AxesSubplot at 0x109817a10>"
      ]
     },
     "execution_count": 15,
     "metadata": {},
     "output_type": "execute_result"
    },
    {
     "data": {
      "image/png": "[encoded data removed]",
      "text/plain": [
       "<matplotlib.figure.Figure at 0x109817350>"
      ]
     },
     "metadata": {},
     "output_type": "display_data"
    }
   ],
   "source": [
    "%matplotlib inline\n",
    "df.cumsum().plot(lw=2)"
   ]
  },
  {
   "cell_type": "markdown",
   "metadata": {},
   "source": [
    "# Series Class"
   ]
  },
  {
   "cell_type": "code",
   "execution_count": 16,
   "metadata": {},
   "outputs": [
    {
     "data": {
      "text/plain": [
       "pandas.core.frame.DataFrame"
      ]
     },
     "execution_count": 16,
     "metadata": {},
     "output_type": "execute_result"
    }
   ],
   "source": [
    "type(df)"
   ]
  },
  {
   "cell_type": "code",
   "execution_count": 17,
   "metadata": {},
   "outputs": [
    {
     "data": {
      "text/plain": [
       "pandas.core.series.Series"
      ]
     },
     "execution_count": 17,
     "metadata": {},
     "output_type": "execute_result"
    }
   ],
   "source": [
    "type(df['No1'])"
   ]
  },
  {
   "cell_type": "code",
   "execution_count": 18,
   "metadata": {},
   "outputs": [
    {
     "data": {
      "text/plain": [
       "<matplotlib.text.Text at 0x109a85950>"
      ]
     },
     "execution_count": 18,
     "metadata": {},
     "output_type": "execute_result"
    },
    {
     "data": {
      "image/png": "[encoded data removed]",
      "text/plain": [
       "<matplotlib.figure.Figure at 0x1090fbfd0>"
      ]
     },
     "metadata": {},
     "output_type": "display_data"
    }
   ],
   "source": [
    "import matplotlib.pyplot as plt\n",
    "df['No1'].cumsum().plot(style='r', lw=2)\n",
    "plt.xlabel('date')\n",
    "plt.ylabel('value')"
   ]
  },
  {
   "cell_type": "markdown",
   "metadata": {},
   "source": [
    "# Groupby Operators"
   ]
  },
  {
   "cell_type": "code",
   "execution_count": 19,
   "metadata": {},
   "outputs": [
    {
     "data": {
      "text/html": [
       "<div>\n",
       "<table border=\"1\" class=\"dataframe\">\n",
       "  <thead>\n",
       "    <tr style=\"text-align: right;\">\n",
       "      <th></th>\n",
       "      <th>No1</th>\n",
       "      <th>No2</th>\n",
       "      <th>No3</th>\n",
       "      <th>No4</th>\n",
       "      <th>Quarter</th>\n",
       "    </tr>\n",
       "    <tr>\n",
       "      <th>date</th>\n",
       "      <th></th>\n",
       "      <th></th>\n",
       "      <th></th>\n",
       "      <th></th>\n",
       "      <th></th>\n",
       "    </tr>\n",
       "  </thead>\n",
       "  <tbody>\n",
       "    <tr>\n",
       "      <th>2015-01-31</th>\n",
       "      <td>-0.868766</td>\n",
       "      <td>0.521888</td>\n",
       "      <td>0.618314</td>\n",
       "      <td>-0.528101</td>\n",
       "      <td>Q1</td>\n",
       "    </tr>\n",
       "    <tr>\n",
       "      <th>2015-02-28</th>\n",
       "      <td>0.873252</td>\n",
       "      <td>-1.435089</td>\n",
       "      <td>-0.135803</td>\n",
       "      <td>-0.058199</td>\n",
       "      <td>Q1</td>\n",
       "    </tr>\n",
       "    <tr>\n",
       "      <th>2015-03-31</th>\n",
       "      <td>-0.034635</td>\n",
       "      <td>-0.208456</td>\n",
       "      <td>-0.234717</td>\n",
       "      <td>0.339602</td>\n",
       "      <td>Q1</td>\n",
       "    </tr>\n",
       "    <tr>\n",
       "      <th>2015-04-30</th>\n",
       "      <td>-0.685325</td>\n",
       "      <td>0.398205</td>\n",
       "      <td>0.545643</td>\n",
       "      <td>-0.753154</td>\n",
       "      <td>Q2</td>\n",
       "    </tr>\n",
       "    <tr>\n",
       "      <th>2015-05-31</th>\n",
       "      <td>-0.607930</td>\n",
       "      <td>1.427606</td>\n",
       "      <td>0.182361</td>\n",
       "      <td>0.470785</td>\n",
       "      <td>Q2</td>\n",
       "    </tr>\n",
       "    <tr>\n",
       "      <th>2015-06-30</th>\n",
       "      <td>1.114116</td>\n",
       "      <td>-1.231380</td>\n",
       "      <td>0.611500</td>\n",
       "      <td>-0.764282</td>\n",
       "      <td>Q2</td>\n",
       "    </tr>\n",
       "    <tr>\n",
       "      <th>2015-07-31</th>\n",
       "      <td>-0.141153</td>\n",
       "      <td>-0.014433</td>\n",
       "      <td>1.445405</td>\n",
       "      <td>1.151041</td>\n",
       "      <td>Q3</td>\n",
       "    </tr>\n",
       "    <tr>\n",
       "      <th>2015-08-31</th>\n",
       "      <td>0.025712</td>\n",
       "      <td>-0.122128</td>\n",
       "      <td>0.675746</td>\n",
       "      <td>-0.474325</td>\n",
       "      <td>Q3</td>\n",
       "    </tr>\n",
       "    <tr>\n",
       "      <th>2015-09-30</th>\n",
       "      <td>-1.532938</td>\n",
       "      <td>-1.264808</td>\n",
       "      <td>1.069457</td>\n",
       "      <td>-0.522920</td>\n",
       "      <td>Q3</td>\n",
       "    </tr>\n",
       "  </tbody>\n",
       "</table>\n",
       "</div>"
      ],
      "text/plain": [
       "                 No1       No2       No3       No4 Quarter\n",
       "date                                                      \n",
       "2015-01-31 -0.868766  0.521888  0.618314 -0.528101      Q1\n",
       "2015-02-28  0.873252 -1.435089 -0.135803 -0.058199      Q1\n",
       "2015-03-31 -0.034635 -0.208456 -0.234717  0.339602      Q1\n",
       "2015-04-30 -0.685325  0.398205  0.545643 -0.753154      Q2\n",
       "2015-05-31 -0.607930  1.427606  0.182361  0.470785      Q2\n",
       "2015-06-30  1.114116 -1.231380  0.611500 -0.764282      Q2\n",
       "2015-07-31 -0.141153 -0.014433  1.445405  1.151041      Q3\n",
       "2015-08-31  0.025712 -0.122128  0.675746 -0.474325      Q3\n",
       "2015-09-30 -1.532938 -1.264808  1.069457 -0.522920      Q3"
      ]
     },
     "execution_count": 19,
     "metadata": {},
     "output_type": "execute_result"
    }
   ],
   "source": [
    "df['Quarter'] = ['Q1', 'Q1', 'Q1', 'Q2', 'Q2', 'Q2', 'Q3', 'Q3', 'Q3']\n",
    "df"
   ]
  },
  {
   "cell_type": "code",
   "execution_count": 20,
   "metadata": {},
   "outputs": [
    {
     "data": {
      "text/plain": [
       "<pandas.core.groupby.DataFrameGroupBy object at 0x1090fbb90>"
      ]
     },
     "execution_count": 20,
     "metadata": {},
     "output_type": "execute_result"
    }
   ],
   "source": [
    "groups = df.groupby('Quarter')\n",
    "groups"
   ]
  },
  {
   "cell_type": "code",
   "execution_count": 21,
   "metadata": {},
   "outputs": [
    {
     "data": {
      "text/html": [
       "<div>\n",
       "<table border=\"1\" class=\"dataframe\">\n",
       "  <thead>\n",
       "    <tr style=\"text-align: right;\">\n",
       "      <th></th>\n",
       "      <th>No1</th>\n",
       "      <th>No2</th>\n",
       "      <th>No3</th>\n",
       "      <th>No4</th>\n",
       "    </tr>\n",
       "    <tr>\n",
       "      <th>Quarter</th>\n",
       "      <th></th>\n",
       "      <th></th>\n",
       "      <th></th>\n",
       "      <th></th>\n",
       "    </tr>\n",
       "  </thead>\n",
       "  <tbody>\n",
       "    <tr>\n",
       "      <th>Q1</th>\n",
       "      <td>-0.010050</td>\n",
       "      <td>-0.373886</td>\n",
       "      <td>0.082598</td>\n",
       "      <td>-0.082233</td>\n",
       "    </tr>\n",
       "    <tr>\n",
       "      <th>Q2</th>\n",
       "      <td>-0.059713</td>\n",
       "      <td>0.198144</td>\n",
       "      <td>0.446501</td>\n",
       "      <td>-0.348884</td>\n",
       "    </tr>\n",
       "    <tr>\n",
       "      <th>Q3</th>\n",
       "      <td>-0.549460</td>\n",
       "      <td>-0.467123</td>\n",
       "      <td>1.063536</td>\n",
       "      <td>0.051265</td>\n",
       "    </tr>\n",
       "  </tbody>\n",
       "</table>\n",
       "</div>"
      ],
      "text/plain": [
       "              No1       No2       No3       No4\n",
       "Quarter                                        \n",
       "Q1      -0.010050 -0.373886  0.082598 -0.082233\n",
       "Q2      -0.059713  0.198144  0.446501 -0.348884\n",
       "Q3      -0.549460 -0.467123  1.063536  0.051265"
      ]
     },
     "execution_count": 21,
     "metadata": {},
     "output_type": "execute_result"
    }
   ],
   "source": [
    "groups.mean()"
   ]
  },
  {
   "cell_type": "code",
   "execution_count": 22,
   "metadata": {},
   "outputs": [
    {
     "data": {
      "text/html": [
       "<div>\n",
       "<table border=\"1\" class=\"dataframe\">\n",
       "  <thead>\n",
       "    <tr style=\"text-align: right;\">\n",
       "      <th></th>\n",
       "      <th>No1</th>\n",
       "      <th>No2</th>\n",
       "      <th>No3</th>\n",
       "      <th>No4</th>\n",
       "    </tr>\n",
       "    <tr>\n",
       "      <th>Quarter</th>\n",
       "      <th></th>\n",
       "      <th></th>\n",
       "      <th></th>\n",
       "      <th></th>\n",
       "    </tr>\n",
       "  </thead>\n",
       "  <tbody>\n",
       "    <tr>\n",
       "      <th>Q1</th>\n",
       "      <td>0.873252</td>\n",
       "      <td>0.521888</td>\n",
       "      <td>0.618314</td>\n",
       "      <td>0.339602</td>\n",
       "    </tr>\n",
       "    <tr>\n",
       "      <th>Q2</th>\n",
       "      <td>1.114116</td>\n",
       "      <td>1.427606</td>\n",
       "      <td>0.611500</td>\n",
       "      <td>0.470785</td>\n",
       "    </tr>\n",
       "    <tr>\n",
       "      <th>Q3</th>\n",
       "      <td>0.025712</td>\n",
       "      <td>-0.014433</td>\n",
       "      <td>1.445405</td>\n",
       "      <td>1.151041</td>\n",
       "    </tr>\n",
       "  </tbody>\n",
       "</table>\n",
       "</div>"
      ],
      "text/plain": [
       "              No1       No2       No3       No4\n",
       "Quarter                                        \n",
       "Q1       0.873252  0.521888  0.618314  0.339602\n",
       "Q2       1.114116  1.427606  0.611500  0.470785\n",
       "Q3       0.025712 -0.014433  1.445405  1.151041"
      ]
     },
     "execution_count": 22,
     "metadata": {},
     "output_type": "execute_result"
    }
   ],
   "source": [
    "groups.max()"
   ]
  },
  {
   "cell_type": "code",
   "execution_count": 23,
   "metadata": {},
   "outputs": [
    {
     "data": {
      "text/plain": [
       "Quarter\n",
       "Q1    3\n",
       "Q2    3\n",
       "Q3    3\n",
       "dtype: int64"
      ]
     },
     "execution_count": 23,
     "metadata": {},
     "output_type": "execute_result"
    }
   ],
   "source": [
    "groups.size()"
   ]
  },
  {
   "cell_type": "code",
   "execution_count": 24,
   "metadata": {},
   "outputs": [
    {
     "data": {
      "text/html": [
       "<div>\n",
       "<table border=\"1\" class=\"dataframe\">\n",
       "  <thead>\n",
       "    <tr style=\"text-align: right;\">\n",
       "      <th></th>\n",
       "      <th>No1</th>\n",
       "      <th>No2</th>\n",
       "      <th>No3</th>\n",
       "      <th>No4</th>\n",
       "      <th>Quarter</th>\n",
       "      <th>Odd_Even</th>\n",
       "    </tr>\n",
       "    <tr>\n",
       "      <th>date</th>\n",
       "      <th></th>\n",
       "      <th></th>\n",
       "      <th></th>\n",
       "      <th></th>\n",
       "      <th></th>\n",
       "      <th></th>\n",
       "    </tr>\n",
       "  </thead>\n",
       "  <tbody>\n",
       "    <tr>\n",
       "      <th>2015-01-31</th>\n",
       "      <td>-0.868766</td>\n",
       "      <td>0.521888</td>\n",
       "      <td>0.618314</td>\n",
       "      <td>-0.528101</td>\n",
       "      <td>Q1</td>\n",
       "      <td>Odd</td>\n",
       "    </tr>\n",
       "    <tr>\n",
       "      <th>2015-02-28</th>\n",
       "      <td>0.873252</td>\n",
       "      <td>-1.435089</td>\n",
       "      <td>-0.135803</td>\n",
       "      <td>-0.058199</td>\n",
       "      <td>Q1</td>\n",
       "      <td>Even</td>\n",
       "    </tr>\n",
       "    <tr>\n",
       "      <th>2015-03-31</th>\n",
       "      <td>-0.034635</td>\n",
       "      <td>-0.208456</td>\n",
       "      <td>-0.234717</td>\n",
       "      <td>0.339602</td>\n",
       "      <td>Q1</td>\n",
       "      <td>Odd</td>\n",
       "    </tr>\n",
       "    <tr>\n",
       "      <th>2015-04-30</th>\n",
       "      <td>-0.685325</td>\n",
       "      <td>0.398205</td>\n",
       "      <td>0.545643</td>\n",
       "      <td>-0.753154</td>\n",
       "      <td>Q2</td>\n",
       "      <td>Even</td>\n",
       "    </tr>\n",
       "    <tr>\n",
       "      <th>2015-05-31</th>\n",
       "      <td>-0.607930</td>\n",
       "      <td>1.427606</td>\n",
       "      <td>0.182361</td>\n",
       "      <td>0.470785</td>\n",
       "      <td>Q2</td>\n",
       "      <td>Odd</td>\n",
       "    </tr>\n",
       "    <tr>\n",
       "      <th>2015-06-30</th>\n",
       "      <td>1.114116</td>\n",
       "      <td>-1.231380</td>\n",
       "      <td>0.611500</td>\n",
       "      <td>-0.764282</td>\n",
       "      <td>Q2</td>\n",
       "      <td>Even</td>\n",
       "    </tr>\n",
       "    <tr>\n",
       "      <th>2015-07-31</th>\n",
       "      <td>-0.141153</td>\n",
       "      <td>-0.014433</td>\n",
       "      <td>1.445405</td>\n",
       "      <td>1.151041</td>\n",
       "      <td>Q3</td>\n",
       "      <td>Odd</td>\n",
       "    </tr>\n",
       "    <tr>\n",
       "      <th>2015-08-31</th>\n",
       "      <td>0.025712</td>\n",
       "      <td>-0.122128</td>\n",
       "      <td>0.675746</td>\n",
       "      <td>-0.474325</td>\n",
       "      <td>Q3</td>\n",
       "      <td>Even</td>\n",
       "    </tr>\n",
       "    <tr>\n",
       "      <th>2015-09-30</th>\n",
       "      <td>-1.532938</td>\n",
       "      <td>-1.264808</td>\n",
       "      <td>1.069457</td>\n",
       "      <td>-0.522920</td>\n",
       "      <td>Q3</td>\n",
       "      <td>Odd</td>\n",
       "    </tr>\n",
       "  </tbody>\n",
       "</table>\n",
       "</div>"
      ],
      "text/plain": [
       "                 No1       No2       No3       No4 Quarter Odd_Even\n",
       "date                                                               \n",
       "2015-01-31 -0.868766  0.521888  0.618314 -0.528101      Q1      Odd\n",
       "2015-02-28  0.873252 -1.435089 -0.135803 -0.058199      Q1     Even\n",
       "2015-03-31 -0.034635 -0.208456 -0.234717  0.339602      Q1      Odd\n",
       "2015-04-30 -0.685325  0.398205  0.545643 -0.753154      Q2     Even\n",
       "2015-05-31 -0.607930  1.427606  0.182361  0.470785      Q2      Odd\n",
       "2015-06-30  1.114116 -1.231380  0.611500 -0.764282      Q2     Even\n",
       "2015-07-31 -0.141153 -0.014433  1.445405  1.151041      Q3      Odd\n",
       "2015-08-31  0.025712 -0.122128  0.675746 -0.474325      Q3     Even\n",
       "2015-09-30 -1.532938 -1.264808  1.069457 -0.522920      Q3      Odd"
      ]
     },
     "execution_count": 24,
     "metadata": {},
     "output_type": "execute_result"
    }
   ],
   "source": [
    "df['Odd_Even'] = ['Odd', 'Even', 'Odd', 'Even', 'Odd', 'Even',\n",
    "                           'Odd', 'Even', 'Odd']\n",
    "df"
   ]
  },
  {
   "cell_type": "code",
   "execution_count": 25,
   "metadata": {},
   "outputs": [],
   "source": [
    "groups = df.groupby(['Quarter', 'Odd_Even'])"
   ]
  },
  {
   "cell_type": "code",
   "execution_count": 26,
   "metadata": {},
   "outputs": [
    {
     "data": {
      "text/plain": [
       "Quarter  Odd_Even\n",
       "Q1       Even        1\n",
       "         Odd         2\n",
       "Q2       Even        2\n",
       "         Odd         1\n",
       "Q3       Even        1\n",
       "         Odd         2\n",
       "dtype: int64"
      ]
     },
     "execution_count": 26,
     "metadata": {},
     "output_type": "execute_result"
    }
   ],
   "source": [
    "groups.size()"
   ]
  },
  {
   "cell_type": "code",
   "execution_count": 27,
   "metadata": {},
   "outputs": [
    {
     "data": {
      "text/html": [
       "<div>\n",
       "<table border=\"1\" class=\"dataframe\">\n",
       "  <thead>\n",
       "    <tr style=\"text-align: right;\">\n",
       "      <th></th>\n",
       "      <th></th>\n",
       "      <th>No1</th>\n",
       "      <th>No2</th>\n",
       "      <th>No3</th>\n",
       "      <th>No4</th>\n",
       "    </tr>\n",
       "    <tr>\n",
       "      <th>Quarter</th>\n",
       "      <th>Odd_Even</th>\n",
       "      <th></th>\n",
       "      <th></th>\n",
       "      <th></th>\n",
       "      <th></th>\n",
       "    </tr>\n",
       "  </thead>\n",
       "  <tbody>\n",
       "    <tr>\n",
       "      <th rowspan=\"2\" valign=\"top\">Q1</th>\n",
       "      <th>Even</th>\n",
       "      <td>0.873252</td>\n",
       "      <td>-1.435089</td>\n",
       "      <td>-0.135803</td>\n",
       "      <td>-0.058199</td>\n",
       "    </tr>\n",
       "    <tr>\n",
       "      <th>Odd</th>\n",
       "      <td>-0.451700</td>\n",
       "      <td>0.156716</td>\n",
       "      <td>0.191798</td>\n",
       "      <td>-0.094249</td>\n",
       "    </tr>\n",
       "    <tr>\n",
       "      <th rowspan=\"2\" valign=\"top\">Q2</th>\n",
       "      <th>Even</th>\n",
       "      <td>0.214396</td>\n",
       "      <td>-0.416588</td>\n",
       "      <td>0.578572</td>\n",
       "      <td>-0.758718</td>\n",
       "    </tr>\n",
       "    <tr>\n",
       "      <th>Odd</th>\n",
       "      <td>-0.607930</td>\n",
       "      <td>1.427606</td>\n",
       "      <td>0.182361</td>\n",
       "      <td>0.470785</td>\n",
       "    </tr>\n",
       "    <tr>\n",
       "      <th rowspan=\"2\" valign=\"top\">Q3</th>\n",
       "      <th>Even</th>\n",
       "      <td>0.025712</td>\n",
       "      <td>-0.122128</td>\n",
       "      <td>0.675746</td>\n",
       "      <td>-0.474325</td>\n",
       "    </tr>\n",
       "    <tr>\n",
       "      <th>Odd</th>\n",
       "      <td>-0.837045</td>\n",
       "      <td>-0.639620</td>\n",
       "      <td>1.257431</td>\n",
       "      <td>0.314061</td>\n",
       "    </tr>\n",
       "  </tbody>\n",
       "</table>\n",
       "</div>"
      ],
      "text/plain": [
       "                       No1       No2       No3       No4\n",
       "Quarter Odd_Even                                        \n",
       "Q1      Even      0.873252 -1.435089 -0.135803 -0.058199\n",
       "        Odd      -0.451700  0.156716  0.191798 -0.094249\n",
       "Q2      Even      0.214396 -0.416588  0.578572 -0.758718\n",
       "        Odd      -0.607930  1.427606  0.182361  0.470785\n",
       "Q3      Even      0.025712 -0.122128  0.675746 -0.474325\n",
       "        Odd      -0.837045 -0.639620  1.257431  0.314061"
      ]
     },
     "execution_count": 27,
     "metadata": {},
     "output_type": "execute_result"
    }
   ],
   "source": [
    "groups.mean()"
   ]
  },
  {
   "cell_type": "markdown",
   "metadata": {},
   "source": [
    "# Financial Data"
   ]
  },
  {
   "cell_type": "code",
   "execution_count": 28,
   "metadata": {},
   "outputs": [],
   "source": [
    "import cryptocompare as client"
   ]
  },
  {
   "cell_type": "code",
   "execution_count": 29,
   "metadata": {},
   "outputs": [
    {
     "data": {
      "text/html": [
       "<div>\n",
       "<table border=\"1\" class=\"dataframe\">\n",
       "  <thead>\n",
       "    <tr style=\"text-align: right;\">\n",
       "      <th></th>\n",
       "      <th>close</th>\n",
       "      <th>high</th>\n",
       "      <th>low</th>\n",
       "      <th>open</th>\n",
       "      <th>time</th>\n",
       "      <th>volumefrom</th>\n",
       "      <th>volumeto</th>\n",
       "    </tr>\n",
       "  </thead>\n",
       "  <tbody>\n",
       "    <tr>\n",
       "      <th>86</th>\n",
       "      <td>9190.63</td>\n",
       "      <td>9332.25</td>\n",
       "      <td>8781.35</td>\n",
       "      <td>8965.29</td>\n",
       "      <td>1517011200</td>\n",
       "      <td>17753.20</td>\n",
       "      <td>1.613527e+08</td>\n",
       "    </tr>\n",
       "    <tr>\n",
       "      <th>87</th>\n",
       "      <td>9401.97</td>\n",
       "      <td>9576.38</td>\n",
       "      <td>9138.83</td>\n",
       "      <td>9190.87</td>\n",
       "      <td>1517097600</td>\n",
       "      <td>17686.29</td>\n",
       "      <td>1.659540e+08</td>\n",
       "    </tr>\n",
       "    <tr>\n",
       "      <th>88</th>\n",
       "      <td>9030.15</td>\n",
       "      <td>9827.84</td>\n",
       "      <td>8927.50</td>\n",
       "      <td>9401.97</td>\n",
       "      <td>1517184000</td>\n",
       "      <td>16479.22</td>\n",
       "      <td>1.501784e+08</td>\n",
       "    </tr>\n",
       "    <tr>\n",
       "      <th>89</th>\n",
       "      <td>8097.68</td>\n",
       "      <td>9065.40</td>\n",
       "      <td>7939.44</td>\n",
       "      <td>9030.15</td>\n",
       "      <td>1517270400</td>\n",
       "      <td>36416.80</td>\n",
       "      <td>3.062069e+08</td>\n",
       "    </tr>\n",
       "    <tr>\n",
       "      <th>90</th>\n",
       "      <td>8037.14</td>\n",
       "      <td>8307.74</td>\n",
       "      <td>7764.78</td>\n",
       "      <td>8097.68</td>\n",
       "      <td>1517356800</td>\n",
       "      <td>20145.91</td>\n",
       "      <td>1.621083e+08</td>\n",
       "    </tr>\n",
       "  </tbody>\n",
       "</table>\n",
       "</div>"
      ],
      "text/plain": [
       "      close     high      low     open        time  volumefrom      volumeto\n",
       "86  9190.63  9332.25  8781.35  8965.29  1517011200    17753.20  1.613527e+08\n",
       "87  9401.97  9576.38  9138.83  9190.87  1517097600    17686.29  1.659540e+08\n",
       "88  9030.15  9827.84  8927.50  9401.97  1517184000    16479.22  1.501784e+08\n",
       "89  8097.68  9065.40  7939.44  9030.15  1517270400    36416.80  3.062069e+08\n",
       "90  8037.14  8307.74  7764.78  8097.68  1517356800    20145.91  1.621083e+08"
      ]
     },
     "execution_count": 29,
     "metadata": {},
     "output_type": "execute_result"
    }
   ],
   "source": [
    "history = client.get_histo_day('BTC', params={'limit': 90})['Data']\n",
    "df = pd.DataFrame(history)\n",
    "df.tail()"
   ]
  },
  {
   "cell_type": "code",
   "execution_count": 30,
   "metadata": {},
   "outputs": [
    {
     "data": {
      "text/plain": [
       "<matplotlib.axes.AxesSubplot at 0x109d1a390>"
      ]
     },
     "execution_count": 30,
     "metadata": {},
     "output_type": "execute_result"
    },
    {
     "data": {
      "image/png": "[encoded data removed]",
      "text/plain": [
       "<matplotlib.figure.Figure at 0x109817290>"
      ]
     },
     "metadata": {},
     "output_type": "display_data"
    }
   ],
   "source": [
    "df['close'].plot(figsize=(8, 5))"
   ]
  },
  {
   "cell_type": "code",
   "execution_count": 31,
   "metadata": {},
   "outputs": [
    {
     "name": "stderr",
     "output_type": "stream",
     "text": [
      "/Library/Python/2.7/site-packages/ipykernel_launcher.py:3: SettingWithCopyWarning: \n",
      "A value is trying to be set on a copy of a slice from a DataFrame\n",
      "\n",
      "See the caveats in the documentation: http://pandas.pydata.org/pandas-docs/stable/indexing.html#indexing-view-versus-copy\n",
      "  This is separate from the ipykernel package so we can avoid doing imports until\n"
     ]
    },
    {
     "name": "stdout",
     "output_type": "stream",
     "text": [
      "CPU times: user 2.17 s, sys: 14.3 ms, total: 2.18 s\n",
      "Wall time: 2.18 s\n"
     ]
    }
   ],
   "source": [
    "%%time \n",
    "df['Ret_Loop'] = 0.0\n",
    "for i in range(1, len(df)):\n",
    "    df['Ret_Loop'][i] = np.log(df['close'][i] / df['close'][i-1])"
   ]
  },
  {
   "cell_type": "code",
   "execution_count": 32,
   "metadata": {},
   "outputs": [
    {
     "data": {
      "text/html": [
       "<div>\n",
       "<table border=\"1\" class=\"dataframe\">\n",
       "  <thead>\n",
       "    <tr style=\"text-align: right;\">\n",
       "      <th></th>\n",
       "      <th>close</th>\n",
       "      <th>Ret_Loop</th>\n",
       "    </tr>\n",
       "  </thead>\n",
       "  <tbody>\n",
       "    <tr>\n",
       "      <th>86</th>\n",
       "      <td>9190.63</td>\n",
       "      <td>0.023579</td>\n",
       "    </tr>\n",
       "    <tr>\n",
       "      <th>87</th>\n",
       "      <td>9401.97</td>\n",
       "      <td>0.022735</td>\n",
       "    </tr>\n",
       "    <tr>\n",
       "      <th>88</th>\n",
       "      <td>9030.15</td>\n",
       "      <td>-0.040350</td>\n",
       "    </tr>\n",
       "    <tr>\n",
       "      <th>89</th>\n",
       "      <td>8097.68</td>\n",
       "      <td>-0.108991</td>\n",
       "    </tr>\n",
       "    <tr>\n",
       "      <th>90</th>\n",
       "      <td>8037.14</td>\n",
       "      <td>-0.007504</td>\n",
       "    </tr>\n",
       "  </tbody>\n",
       "</table>\n",
       "</div>"
      ],
      "text/plain": [
       "      close  Ret_Loop\n",
       "86  9190.63  0.023579\n",
       "87  9401.97  0.022735\n",
       "88  9030.15 -0.040350\n",
       "89  8097.68 -0.108991\n",
       "90  8037.14 -0.007504"
      ]
     },
     "execution_count": 32,
     "metadata": {},
     "output_type": "execute_result"
    }
   ],
   "source": [
    "df[['close', 'Ret_Loop']].tail()"
   ]
  },
  {
   "cell_type": "markdown",
   "metadata": {},
   "source": [
    "# vectorized (preferred version)"
   ]
  },
  {
   "cell_type": "code",
   "execution_count": 33,
   "metadata": {},
   "outputs": [
    {
     "name": "stdout",
     "output_type": "stream",
     "text": [
      "CPU times: user 813 µs, sys: 199 µs, total: 1.01 ms\n",
      "Wall time: 852 µs\n"
     ]
    }
   ],
   "source": [
    "%time df['Return'] = np.log(df['close'] / df['close'].shift(1))\n"
   ]
  },
  {
   "cell_type": "code",
   "execution_count": 34,
   "metadata": {},
   "outputs": [
    {
     "data": {
      "text/html": [
       "<div>\n",
       "<table border=\"1\" class=\"dataframe\">\n",
       "  <thead>\n",
       "    <tr style=\"text-align: right;\">\n",
       "      <th></th>\n",
       "      <th>close</th>\n",
       "      <th>Ret_Loop</th>\n",
       "      <th>Return</th>\n",
       "    </tr>\n",
       "  </thead>\n",
       "  <tbody>\n",
       "    <tr>\n",
       "      <th>86</th>\n",
       "      <td>9190.63</td>\n",
       "      <td>0.023579</td>\n",
       "      <td>0.023579</td>\n",
       "    </tr>\n",
       "    <tr>\n",
       "      <th>87</th>\n",
       "      <td>9401.97</td>\n",
       "      <td>0.022735</td>\n",
       "      <td>0.022735</td>\n",
       "    </tr>\n",
       "    <tr>\n",
       "      <th>88</th>\n",
       "      <td>9030.15</td>\n",
       "      <td>-0.040350</td>\n",
       "      <td>-0.040350</td>\n",
       "    </tr>\n",
       "    <tr>\n",
       "      <th>89</th>\n",
       "      <td>8097.68</td>\n",
       "      <td>-0.108991</td>\n",
       "      <td>-0.108991</td>\n",
       "    </tr>\n",
       "    <tr>\n",
       "      <th>90</th>\n",
       "      <td>8037.14</td>\n",
       "      <td>-0.007504</td>\n",
       "      <td>-0.007504</td>\n",
       "    </tr>\n",
       "  </tbody>\n",
       "</table>\n",
       "</div>"
      ],
      "text/plain": [
       "      close  Ret_Loop    Return\n",
       "86  9190.63  0.023579  0.023579\n",
       "87  9401.97  0.022735  0.022735\n",
       "88  9030.15 -0.040350 -0.040350\n",
       "89  8097.68 -0.108991 -0.108991\n",
       "90  8037.14 -0.007504 -0.007504"
      ]
     },
     "execution_count": 34,
     "metadata": {},
     "output_type": "execute_result"
    }
   ],
   "source": [
    "df[['close', 'Ret_Loop', 'Return']].tail()"
   ]
  },
  {
   "cell_type": "code",
   "execution_count": 35,
   "metadata": {},
   "outputs": [],
   "source": [
    "del df['Ret_Loop']"
   ]
  },
  {
   "cell_type": "code",
   "execution_count": 40,
   "metadata": {},
   "outputs": [
    {
     "data": {
      "text/plain": [
       "array([<matplotlib.axes.AxesSubplot object at 0x10a7e25d0>,\n",
       "       <matplotlib.axes.AxesSubplot object at 0x10a5c7f50>], dtype=object)"
      ]
     },
     "execution_count": 40,
     "metadata": {},
     "output_type": "execute_result"
    },
    {
     "data": {
      "image/png": "[encoded data removed]",
      "text/plain": [
       "<matplotlib.figure.Figure at 0x10a71a950>"
      ]
     },
     "metadata": {},
     "output_type": "display_data"
    }
   ],
   "source": [
    "df[['close', 'Return']].plot(subplots=True, style='b', figsize=(8, 5))"
   ]
  },
  {
   "cell_type": "code",
   "execution_count": 50,
   "metadata": {},
   "outputs": [],
   "source": [
    "df['10d'] = df['close'].rolling(window=20).mean()\n",
    "df['20d'] = df['close'].rolling(window=20).mean()"
   ]
  },
  {
   "cell_type": "code",
   "execution_count": 52,
   "metadata": {},
   "outputs": [
    {
     "data": {
      "text/html": [
       "<div>\n",
       "<table border=\"1\" class=\"dataframe\">\n",
       "  <thead>\n",
       "    <tr style=\"text-align: right;\">\n",
       "      <th></th>\n",
       "      <th>close</th>\n",
       "      <th>10d</th>\n",
       "      <th>20d</th>\n",
       "    </tr>\n",
       "  </thead>\n",
       "  <tbody>\n",
       "    <tr>\n",
       "      <th>86</th>\n",
       "      <td>9190.63</td>\n",
       "      <td>10283.8075</td>\n",
       "      <td>10283.8075</td>\n",
       "    </tr>\n",
       "    <tr>\n",
       "      <th>87</th>\n",
       "      <td>9401.97</td>\n",
       "      <td>10122.9995</td>\n",
       "      <td>10122.9995</td>\n",
       "    </tr>\n",
       "    <tr>\n",
       "      <th>88</th>\n",
       "      <td>9030.15</td>\n",
       "      <td>9968.2415</td>\n",
       "      <td>9968.2415</td>\n",
       "    </tr>\n",
       "    <tr>\n",
       "      <th>89</th>\n",
       "      <td>8097.68</td>\n",
       "      <td>9751.7275</td>\n",
       "      <td>9751.7275</td>\n",
       "    </tr>\n",
       "    <tr>\n",
       "      <th>90</th>\n",
       "      <td>8037.14</td>\n",
       "      <td>9596.3750</td>\n",
       "      <td>9596.3750</td>\n",
       "    </tr>\n",
       "  </tbody>\n",
       "</table>\n",
       "</div>"
      ],
      "text/plain": [
       "      close         10d         20d\n",
       "86  9190.63  10283.8075  10283.8075\n",
       "87  9401.97  10122.9995  10122.9995\n",
       "88  9030.15   9968.2415   9968.2415\n",
       "89  8097.68   9751.7275   9751.7275\n",
       "90  8037.14   9596.3750   9596.3750"
      ]
     },
     "execution_count": 52,
     "metadata": {},
     "output_type": "execute_result"
    }
   ],
   "source": [
    "df[['close', '10d', '20d']].tail()"
   ]
  },
  {
   "cell_type": "code",
   "execution_count": 54,
   "metadata": {},
   "outputs": [
    {
     "data": {
      "text/plain": [
       "<matplotlib.axes.AxesSubplot at 0x10a9cb3d0>"
      ]
     },
     "execution_count": 54,
     "metadata": {},
     "output_type": "execute_result"
    },
    {
     "data": {
      "image/png": "[encoded data removed]",
      "text/plain": [
       "<matplotlib.figure.Figure at 0x10a9d4550>"
      ]
     },
     "metadata": {},
     "output_type": "display_data"
    }
   ],
   "source": [
    "df[['close', '10d', '20d']].plot(figsize=(8, 5))"
   ]
  },
  {
   "cell_type": "code",
   "execution_count": 56,
   "metadata": {},
   "outputs": [],
   "source": [
    "import math\n",
    "df['mov_vol'] = df['Return'].rolling(20).std() * math.sqrt(20)"
   ]
  },
  {
   "cell_type": "code",
   "execution_count": 58,
   "metadata": {},
   "outputs": [
    {
     "data": {
      "text/plain": [
       "array([<matplotlib.axes.AxesSubplot object at 0x10becbf10>,\n",
       "       <matplotlib.axes.AxesSubplot object at 0x10c0fbf50>,\n",
       "       <matplotlib.axes.AxesSubplot object at 0x10c180d90>], dtype=object)"
      ]
     },
     "execution_count": 58,
     "metadata": {},
     "output_type": "execute_result"
    },
    {
     "data": {
      "image/png": "[encoded data removed]",
      "text/plain": [
       "<matplotlib.figure.Figure at 0x10bebb910>"
      ]
     },
     "metadata": {},
     "output_type": "display_data"
    }
   ],
   "source": [
    "df[['close', 'mov_vol', 'Return']].plot(subplots=True, style='b', figsize=(8, 7))"
   ]
  },
  {
   "cell_type": "markdown",
   "metadata": {},
   "source": [
    "# Regression Analysis"
   ]
  },
  {
   "cell_type": "code",
   "execution_count": null,
   "metadata": {},
   "outputs": [],
   "source": []
  }
 ],
 "metadata": {
  "kernelspec": {
   "display_name": "Python 2",
   "language": "python",
   "name": "python2"
  },
  "language_info": {
   "codemirror_mode": {
    "name": "ipython",
    "version": 2
   },
   "file_extension": ".py",
   "mimetype": "text/x-python",
   "name": "python",
   "nbconvert_exporter": "python",
   "pygments_lexer": "ipython2",
   "version": "2.7.10"
  }
 },
 "nbformat": 4,
 "nbformat_minor": 2
}
