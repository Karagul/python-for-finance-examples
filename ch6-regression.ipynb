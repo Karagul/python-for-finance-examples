{
 "cells": [
  {
   "cell_type": "markdown",
   "metadata": {},
   "source": [
    "# Regression Analysis"
   ]
  },
  {
   "cell_type": "code",
   "execution_count": 1,
   "metadata": {},
   "outputs": [],
   "source": [
    "%matplotlib inline\n",
    "import pandas as pd\n",
    "import numpy as np\n",
    "from urllib import urlretrieve"
   ]
  },
  {
   "cell_type": "code",
   "execution_count": 2,
   "metadata": {},
   "outputs": [
    {
     "name": "stdout",
     "output_type": "stream",
     "text": [
      "total 3104\r\n",
      "-rw-r--r--  1 jmp  688500 Feb 25 00:13 es.txt\r\n",
      "-rw-r--r--  1 jmp  531406 Feb 24 23:51 es50.txt\r\n",
      "-rw-r--r--  1 jmp  363485 Feb 25 00:13 vs.txt\r\n"
     ]
    }
   ],
   "source": [
    "es_url = 'http://www.stoxx.com/download/historical_values/hbrbcpe.txt'\n",
    "vs_url = 'http://www.stoxx.com/download/historical_values/h_vstoxx.txt'\n",
    "urlretrieve(es_url, 'data/es.txt')\n",
    "urlretrieve(vs_url, 'data/vs.txt')\n",
    "!ls -o data/"
   ]
  },
  {
   "cell_type": "code",
   "execution_count": 3,
   "metadata": {
    "scrolled": true
   },
   "outputs": [
    {
     "data": {
      "text/plain": [
       "['PriceIndices-EUROCurrency\\n',\n",
       " 'Date;Blue-Chip;Blue-Chip;Broad;Broad;ExUK;ExEuroZone;Blue-Chip;Broad\\n',\n",
       " ';Europe;Euro-Zone;Europe;Euro-Zone;;;Nordic;Nordic\\n',\n",
       " ';SX5P;SX5E;SXXP;SXXE;SXXF;SXXA;DK5F;DKXF\\n',\n",
       " '31.12.1986;775.00;900.82;82.76;98.58;98.06;69.06;645.26;65.56\\n',\n",
       " '01.01.1987;775.00;900.82;82.76;98.58;98.06;69.06;645.26;65.56\\n']"
      ]
     },
     "execution_count": 3,
     "metadata": {},
     "output_type": "execute_result"
    }
   ],
   "source": [
    "lines = open('data/es.txt', 'r').readlines()\n",
    "lines = [ line.replace(' ', '') for line in lines ]\n",
    "lines[:6]"
   ]
  },
  {
   "cell_type": "code",
   "execution_count": 4,
   "metadata": {},
   "outputs": [
    {
     "name": "stdout",
     "output_type": "stream",
     "text": [
      "317.10;267.23;5268.36;363.19\n",
      "322.55;272.18;5360.52;370.94\n",
      "322.69;272.95;5360.52;370.94\n",
      "327.57;277.68;5479.59;378.69;\n",
      "329.94;278.87;5585.35;386.99;\n",
      "326.77;272.38;5522.25;380.09;\n",
      "332.62;277.08;5722.57;396.12;\n"
     ]
    }
   ],
   "source": [
    "for line in lines[3883:3890]:\n",
    "             print line[41:],"
   ]
  },
  {
   "cell_type": "code",
   "execution_count": 5,
   "metadata": {},
   "outputs": [],
   "source": [
    "new_file = open('./data/es50.txt', 'w')\n",
    "# opens a new file\n",
    "new_file.writelines('date' + lines[3][:-1] + ';DEL' + lines[3][-1])\n",
    "# writes the corrected third line of the original file\n",
    "# as first line of new file\n",
    "new_file.writelines(lines[4:])\n",
    "# writes the remaining lines of the orignial file\n",
    "new_file.close()"
   ]
  },
  {
   "cell_type": "code",
   "execution_count": 6,
   "metadata": {},
   "outputs": [
    {
     "data": {
      "text/plain": [
       "['date;SX5P;SX5E;SXXP;SXXE;SXXF;SXXA;DK5F;DKXF;DEL\\n',\n",
       " '31.12.1986;775.00;900.82;82.76;98.58;98.06;69.06;645.26;65.56\\n',\n",
       " '01.01.1987;775.00;900.82;82.76;98.58;98.06;69.06;645.26;65.56\\n',\n",
       " '02.01.1987;770.89;891.78;82.57;97.80;97.43;69.37;647.62;65.81\\n',\n",
       " '05.01.1987;771.89;898.33;82.82;98.60;98.19;69.16;649.94;65.82\\n']"
      ]
     },
     "execution_count": 6,
     "metadata": {},
     "output_type": "execute_result"
    }
   ],
   "source": [
    "new_lines = open('./data/es50.txt', 'r').readlines()\n",
    "new_lines[:5]"
   ]
  },
  {
   "cell_type": "code",
   "execution_count": 7,
   "metadata": {},
   "outputs": [
    {
     "data": {
      "text/html": [
       "<div>\n",
       "<table border=\"1\" class=\"dataframe\">\n",
       "  <thead>\n",
       "    <tr style=\"text-align: right;\">\n",
       "      <th></th>\n",
       "      <th>SX5P</th>\n",
       "      <th>SX5E</th>\n",
       "      <th>SXXP</th>\n",
       "      <th>SXXE</th>\n",
       "      <th>SXXF</th>\n",
       "      <th>SXXA</th>\n",
       "      <th>DK5F</th>\n",
       "      <th>DKXF</th>\n",
       "    </tr>\n",
       "    <tr>\n",
       "      <th>date</th>\n",
       "      <th></th>\n",
       "      <th></th>\n",
       "      <th></th>\n",
       "      <th></th>\n",
       "      <th></th>\n",
       "      <th></th>\n",
       "      <th></th>\n",
       "      <th></th>\n",
       "    </tr>\n",
       "  </thead>\n",
       "  <tbody>\n",
       "    <tr>\n",
       "      <th>1986-12-31</th>\n",
       "      <td>775.00</td>\n",
       "      <td>900.82</td>\n",
       "      <td>82.76</td>\n",
       "      <td>98.58</td>\n",
       "      <td>98.06</td>\n",
       "      <td>69.06</td>\n",
       "      <td>645.26</td>\n",
       "      <td>65.56</td>\n",
       "    </tr>\n",
       "    <tr>\n",
       "      <th>1987-01-01</th>\n",
       "      <td>775.00</td>\n",
       "      <td>900.82</td>\n",
       "      <td>82.76</td>\n",
       "      <td>98.58</td>\n",
       "      <td>98.06</td>\n",
       "      <td>69.06</td>\n",
       "      <td>645.26</td>\n",
       "      <td>65.56</td>\n",
       "    </tr>\n",
       "    <tr>\n",
       "      <th>1987-01-02</th>\n",
       "      <td>770.89</td>\n",
       "      <td>891.78</td>\n",
       "      <td>82.57</td>\n",
       "      <td>97.80</td>\n",
       "      <td>97.43</td>\n",
       "      <td>69.37</td>\n",
       "      <td>647.62</td>\n",
       "      <td>65.81</td>\n",
       "    </tr>\n",
       "    <tr>\n",
       "      <th>1987-01-05</th>\n",
       "      <td>771.89</td>\n",
       "      <td>898.33</td>\n",
       "      <td>82.82</td>\n",
       "      <td>98.60</td>\n",
       "      <td>98.19</td>\n",
       "      <td>69.16</td>\n",
       "      <td>649.94</td>\n",
       "      <td>65.82</td>\n",
       "    </tr>\n",
       "    <tr>\n",
       "      <th>1987-01-06</th>\n",
       "      <td>775.92</td>\n",
       "      <td>902.32</td>\n",
       "      <td>83.28</td>\n",
       "      <td>99.19</td>\n",
       "      <td>98.83</td>\n",
       "      <td>69.50</td>\n",
       "      <td>652.49</td>\n",
       "      <td>66.06</td>\n",
       "    </tr>\n",
       "  </tbody>\n",
       "</table>\n",
       "</div>"
      ],
      "text/plain": [
       "              SX5P    SX5E   SXXP   SXXE   SXXF   SXXA    DK5F   DKXF\n",
       "date                                                                 \n",
       "1986-12-31  775.00  900.82  82.76  98.58  98.06  69.06  645.26  65.56\n",
       "1987-01-01  775.00  900.82  82.76  98.58  98.06  69.06  645.26  65.56\n",
       "1987-01-02  770.89  891.78  82.57  97.80  97.43  69.37  647.62  65.81\n",
       "1987-01-05  771.89  898.33  82.82  98.60  98.19  69.16  649.94  65.82\n",
       "1987-01-06  775.92  902.32  83.28  99.19  98.83  69.50  652.49  66.06"
      ]
     },
     "execution_count": 7,
     "metadata": {},
     "output_type": "execute_result"
    }
   ],
   "source": [
    "es = pd.read_csv('data/es50.txt', index_col=0, parse_dates=True, sep=';', dayfirst=True)\n",
    "np.round(es.tail())\n",
    "del es['DEL']\n",
    "es.head()"
   ]
  },
  {
   "cell_type": "code",
   "execution_count": 8,
   "metadata": {},
   "outputs": [
    {
     "name": "stdout",
     "output_type": "stream",
     "text": [
      "<class 'pandas.core.frame.DataFrame'>\n",
      "DatetimeIndex: 7673 entries, 1986-12-31 to 2016-10-04\n",
      "Data columns (total 8 columns):\n",
      "SX5P    7673 non-null float64\n",
      "SX5E    7673 non-null float64\n",
      "SXXP    7673 non-null float64\n",
      "SXXE    7673 non-null float64\n",
      "SXXF    7673 non-null float64\n",
      "SXXA    7673 non-null float64\n",
      "DK5F    7673 non-null float64\n",
      "DKXF    7673 non-null float64\n",
      "dtypes: float64(8)\n",
      "memory usage: 539.5 KB\n"
     ]
    }
   ],
   "source": [
    "es.info()"
   ]
  },
  {
   "cell_type": "code",
   "execution_count": 9,
   "metadata": {},
   "outputs": [
    {
     "data": {
      "text/html": [
       "<div>\n",
       "<table border=\"1\" class=\"dataframe\">\n",
       "  <thead>\n",
       "    <tr style=\"text-align: right;\">\n",
       "      <th></th>\n",
       "      <th>SX5P</th>\n",
       "      <th>SX5E</th>\n",
       "      <th>SXXP</th>\n",
       "      <th>SXXE</th>\n",
       "      <th>SXXF</th>\n",
       "      <th>SXXA</th>\n",
       "      <th>DK5F</th>\n",
       "      <th>DKXF</th>\n",
       "    </tr>\n",
       "  </thead>\n",
       "  <tbody>\n",
       "    <tr>\n",
       "      <th>2016-09-28</th>\n",
       "      <td>2846.55</td>\n",
       "      <td>2991.11</td>\n",
       "      <td>342.57</td>\n",
       "      <td>324.24</td>\n",
       "      <td>407.97</td>\n",
       "      <td>350.45</td>\n",
       "      <td>9072.09</td>\n",
       "      <td>581.27</td>\n",
       "    </tr>\n",
       "    <tr>\n",
       "      <th>2016-09-29</th>\n",
       "      <td>2848.93</td>\n",
       "      <td>2991.58</td>\n",
       "      <td>342.72</td>\n",
       "      <td>324.08</td>\n",
       "      <td>407.65</td>\n",
       "      <td>350.90</td>\n",
       "      <td>9112.09</td>\n",
       "      <td>582.60</td>\n",
       "    </tr>\n",
       "    <tr>\n",
       "      <th>2016-09-30</th>\n",
       "      <td>2843.17</td>\n",
       "      <td>3002.24</td>\n",
       "      <td>342.92</td>\n",
       "      <td>325.31</td>\n",
       "      <td>408.27</td>\n",
       "      <td>350.09</td>\n",
       "      <td>9115.81</td>\n",
       "      <td>583.26</td>\n",
       "    </tr>\n",
       "    <tr>\n",
       "      <th>2016-10-03</th>\n",
       "      <td>2845.43</td>\n",
       "      <td>2998.50</td>\n",
       "      <td>343.23</td>\n",
       "      <td>325.08</td>\n",
       "      <td>408.44</td>\n",
       "      <td>350.92</td>\n",
       "      <td>9131.24</td>\n",
       "      <td>584.32</td>\n",
       "    </tr>\n",
       "    <tr>\n",
       "      <th>2016-10-04</th>\n",
       "      <td>2871.06</td>\n",
       "      <td>3029.50</td>\n",
       "      <td>346.10</td>\n",
       "      <td>327.73</td>\n",
       "      <td>411.41</td>\n",
       "      <td>353.92</td>\n",
       "      <td>9212.05</td>\n",
       "      <td>588.71</td>\n",
       "    </tr>\n",
       "  </tbody>\n",
       "</table>\n",
       "</div>"
      ],
      "text/plain": [
       "               SX5P     SX5E    SXXP    SXXE    SXXF    SXXA     DK5F    DKXF\n",
       "2016-09-28  2846.55  2991.11  342.57  324.24  407.97  350.45  9072.09  581.27\n",
       "2016-09-29  2848.93  2991.58  342.72  324.08  407.65  350.90  9112.09  582.60\n",
       "2016-09-30  2843.17  3002.24  342.92  325.31  408.27  350.09  9115.81  583.26\n",
       "2016-10-03  2845.43  2998.50  343.23  325.08  408.44  350.92  9131.24  584.32\n",
       "2016-10-04  2871.06  3029.50  346.10  327.73  411.41  353.92  9212.05  588.71"
      ]
     },
     "execution_count": 9,
     "metadata": {},
     "output_type": "execute_result"
    }
   ],
   "source": [
    "cols = ['SX5P', 'SX5E', 'SXXP', 'SXXE', 'SXXF',\n",
    "                 'SXXA', 'DK5F', 'DKXF']\n",
    "es = pd.read_csv(es_url, index_col=0, parse_dates=True, sep=';', dayfirst=True, header=None, skiprows=4, names=cols)\n",
    "es.tail()"
   ]
  },
  {
   "cell_type": "code",
   "execution_count": 10,
   "metadata": {},
   "outputs": [
    {
     "name": "stdout",
     "output_type": "stream",
     "text": [
      "<class 'pandas.core.frame.DataFrame'>\n",
      "DatetimeIndex: 4357 entries, 1999-01-04 to 2016-02-12\n",
      "Data columns (total 9 columns):\n",
      "V2TX    4357 non-null float64\n",
      "V6I1    3906 non-null float64\n",
      "V6I2    4357 non-null float64\n",
      "V6I3    4296 non-null float64\n",
      "V6I4    4357 non-null float64\n",
      "V6I5    4357 non-null float64\n",
      "V6I6    4340 non-null float64\n",
      "V6I7    4357 non-null float64\n",
      "V6I8    4343 non-null float64\n",
      "dtypes: float64(9)\n",
      "memory usage: 340.4 KB\n"
     ]
    }
   ],
   "source": [
    "vs = pd.read_csv(vs_url, index_col=0, header=2, parse_dates=True, sep=',', dayfirst=True)\n",
    "vs.info()"
   ]
  },
  {
   "cell_type": "code",
   "execution_count": 11,
   "metadata": {},
   "outputs": [
    {
     "data": {
      "text/html": [
       "<div>\n",
       "<table border=\"1\" class=\"dataframe\">\n",
       "  <thead>\n",
       "    <tr style=\"text-align: right;\">\n",
       "      <th></th>\n",
       "      <th>EUROSTOXX</th>\n",
       "      <th>VSTOXX</th>\n",
       "    </tr>\n",
       "  </thead>\n",
       "  <tbody>\n",
       "    <tr>\n",
       "      <th>2015-11-25</th>\n",
       "      <td>3462.06</td>\n",
       "      <td>23.9372</td>\n",
       "    </tr>\n",
       "    <tr>\n",
       "      <th>2015-11-26</th>\n",
       "      <td>3498.62</td>\n",
       "      <td>22.8903</td>\n",
       "    </tr>\n",
       "    <tr>\n",
       "      <th>2015-11-27</th>\n",
       "      <td>3488.99</td>\n",
       "      <td>23.0669</td>\n",
       "    </tr>\n",
       "    <tr>\n",
       "      <th>2015-11-30</th>\n",
       "      <td>3506.45</td>\n",
       "      <td>23.6503</td>\n",
       "    </tr>\n",
       "    <tr>\n",
       "      <th>2015-12-01</th>\n",
       "      <td>3479.64</td>\n",
       "      <td>23.6051</td>\n",
       "    </tr>\n",
       "    <tr>\n",
       "      <th>2015-12-02</th>\n",
       "      <td>3468.66</td>\n",
       "      <td>22.8176</td>\n",
       "    </tr>\n",
       "    <tr>\n",
       "      <th>2015-12-03</th>\n",
       "      <td>3343.34</td>\n",
       "      <td>22.6526</td>\n",
       "    </tr>\n",
       "    <tr>\n",
       "      <th>2015-12-04</th>\n",
       "      <td>3330.75</td>\n",
       "      <td>22.6816</td>\n",
       "    </tr>\n",
       "    <tr>\n",
       "      <th>2015-12-07</th>\n",
       "      <td>3360.21</td>\n",
       "      <td>22.0447</td>\n",
       "    </tr>\n",
       "    <tr>\n",
       "      <th>2015-12-08</th>\n",
       "      <td>3297.46</td>\n",
       "      <td>23.5733</td>\n",
       "    </tr>\n",
       "    <tr>\n",
       "      <th>2015-12-09</th>\n",
       "      <td>3277.21</td>\n",
       "      <td>24.2947</td>\n",
       "    </tr>\n",
       "    <tr>\n",
       "      <th>2015-12-10</th>\n",
       "      <td>3269.97</td>\n",
       "      <td>24.5343</td>\n",
       "    </tr>\n",
       "    <tr>\n",
       "      <th>2015-12-11</th>\n",
       "      <td>3203.21</td>\n",
       "      <td>26.5766</td>\n",
       "    </tr>\n",
       "    <tr>\n",
       "      <th>2015-12-14</th>\n",
       "      <td>3139.24</td>\n",
       "      <td>30.4110</td>\n",
       "    </tr>\n",
       "    <tr>\n",
       "      <th>2015-12-15</th>\n",
       "      <td>3241.51</td>\n",
       "      <td>27.4591</td>\n",
       "    </tr>\n",
       "    <tr>\n",
       "      <th>2015-12-16</th>\n",
       "      <td>3246.78</td>\n",
       "      <td>25.4362</td>\n",
       "    </tr>\n",
       "    <tr>\n",
       "      <th>2015-12-17</th>\n",
       "      <td>3306.47</td>\n",
       "      <td>22.5761</td>\n",
       "    </tr>\n",
       "    <tr>\n",
       "      <th>2015-12-18</th>\n",
       "      <td>3260.72</td>\n",
       "      <td>23.8989</td>\n",
       "    </tr>\n",
       "    <tr>\n",
       "      <th>2015-12-21</th>\n",
       "      <td>3213.01</td>\n",
       "      <td>23.8836</td>\n",
       "    </tr>\n",
       "    <tr>\n",
       "      <th>2015-12-22</th>\n",
       "      <td>3214.32</td>\n",
       "      <td>22.5361</td>\n",
       "    </tr>\n",
       "    <tr>\n",
       "      <th>2015-12-23</th>\n",
       "      <td>3286.68</td>\n",
       "      <td>20.2504</td>\n",
       "    </tr>\n",
       "    <tr>\n",
       "      <th>2015-12-24</th>\n",
       "      <td>3284.47</td>\n",
       "      <td>NaN</td>\n",
       "    </tr>\n",
       "    <tr>\n",
       "      <th>2015-12-28</th>\n",
       "      <td>3256.49</td>\n",
       "      <td>22.4544</td>\n",
       "    </tr>\n",
       "    <tr>\n",
       "      <th>2015-12-29</th>\n",
       "      <td>3314.28</td>\n",
       "      <td>21.6067</td>\n",
       "    </tr>\n",
       "    <tr>\n",
       "      <th>2015-12-30</th>\n",
       "      <td>3287.98</td>\n",
       "      <td>22.1745</td>\n",
       "    </tr>\n",
       "  </tbody>\n",
       "</table>\n",
       "</div>"
      ],
      "text/plain": [
       "            EUROSTOXX   VSTOXX\n",
       "2015-11-25    3462.06  23.9372\n",
       "2015-11-26    3498.62  22.8903\n",
       "2015-11-27    3488.99  23.0669\n",
       "2015-11-30    3506.45  23.6503\n",
       "2015-12-01    3479.64  23.6051\n",
       "2015-12-02    3468.66  22.8176\n",
       "2015-12-03    3343.34  22.6526\n",
       "2015-12-04    3330.75  22.6816\n",
       "2015-12-07    3360.21  22.0447\n",
       "2015-12-08    3297.46  23.5733\n",
       "2015-12-09    3277.21  24.2947\n",
       "2015-12-10    3269.97  24.5343\n",
       "2015-12-11    3203.21  26.5766\n",
       "2015-12-14    3139.24  30.4110\n",
       "2015-12-15    3241.51  27.4591\n",
       "2015-12-16    3246.78  25.4362\n",
       "2015-12-17    3306.47  22.5761\n",
       "2015-12-18    3260.72  23.8989\n",
       "2015-12-21    3213.01  23.8836\n",
       "2015-12-22    3214.32  22.5361\n",
       "2015-12-23    3286.68  20.2504\n",
       "2015-12-24    3284.47      NaN\n",
       "2015-12-28    3256.49  22.4544\n",
       "2015-12-29    3314.28  21.6067\n",
       "2015-12-30    3287.98  22.1745"
      ]
     },
     "execution_count": 11,
     "metadata": {},
     "output_type": "execute_result"
    }
   ],
   "source": [
    "import datetime as dt\n",
    "data = pd.DataFrame({'EUROSTOXX': es['SX5E'][(es.index > dt.datetime(1999, 1, 1)) & (es.index < dt.datetime(2015, 12, 31))]})\n",
    "data = data.join(pd.DataFrame({'VSTOXX': vs['V2TX'][(vs.index > dt.datetime(1999, 1, 1)) & (vs.index < dt.datetime(2015, 12, 31))]}))\n",
    "data.tail(25)"
   ]
  },
  {
   "cell_type": "code",
   "execution_count": 12,
   "metadata": {},
   "outputs": [
    {
     "name": "stdout",
     "output_type": "stream",
     "text": [
      "<class 'pandas.core.frame.DataFrame'>\n",
      "DatetimeIndex: 4356 entries, 1999-01-04 to 2015-12-30\n",
      "Data columns (total 2 columns):\n",
      "EUROSTOXX    4356 non-null float64\n",
      "VSTOXX       4356 non-null float64\n",
      "dtypes: float64(2)\n",
      "memory usage: 102.1 KB\n",
      "            EUROSTOXX   VSTOXX\n",
      "1999-01-04    3543.10  18.2033\n",
      "1999-01-05    3604.67  29.6912\n",
      "1999-01-06    3685.36  25.1670\n",
      "1999-01-07    3627.87  32.5205\n",
      "1999-01-08    3616.57  33.2296\n",
      "1999-01-11    3546.40  36.8411\n",
      "1999-01-12    3502.38  37.5664\n",
      "1999-01-13    3336.45  39.7373\n",
      "1999-01-14    3365.43  39.1373\n",
      "1999-01-15    3426.06  38.6741\n",
      "1999-01-18    3515.43  38.5439\n",
      "1999-01-19    3515.69  38.7869\n",
      "1999-01-20    3601.36  35.5535\n",
      "1999-01-21    3561.56  36.9171\n",
      "1999-01-22    3426.11  39.9439\n",
      "1999-01-25    3428.80  40.7034\n",
      "1999-01-26    3433.87  42.7544\n",
      "1999-01-27    3453.70  41.7569\n",
      "1999-01-28    3511.31  39.1479\n",
      "1999-01-29    3547.15  37.6140\n",
      "1999-02-01    3597.04  37.0314\n",
      "1999-02-02    3541.43  38.6119\n",
      "1999-02-03    3488.13  39.9634\n",
      "1999-02-04    3487.08  38.7933\n",
      "1999-02-05    3489.98  37.8148\n",
      "1999-02-08    3462.29  38.7652\n",
      "1999-02-09    3342.58  39.5509\n",
      "1999-02-10    3325.56  40.3040\n",
      "1999-02-11    3375.42  37.8309\n",
      "1999-02-12    3405.68  36.0635\n",
      "...               ...      ...\n",
      "2015-11-18    3431.92  24.7480\n",
      "2015-11-19    3448.93  23.4423\n",
      "2015-11-20    3452.45  22.6528\n",
      "2015-11-23    3445.26  22.9841\n",
      "2015-11-24    3409.60  24.8133\n",
      "2015-11-25    3462.06  23.9372\n",
      "2015-11-26    3498.62  22.8903\n",
      "2015-11-27    3488.99  23.0669\n",
      "2015-11-30    3506.45  23.6503\n",
      "2015-12-01    3479.64  23.6051\n",
      "2015-12-02    3468.66  22.8176\n",
      "2015-12-03    3343.34  22.6526\n",
      "2015-12-04    3330.75  22.6816\n",
      "2015-12-07    3360.21  22.0447\n",
      "2015-12-08    3297.46  23.5733\n",
      "2015-12-09    3277.21  24.2947\n",
      "2015-12-10    3269.97  24.5343\n",
      "2015-12-11    3203.21  26.5766\n",
      "2015-12-14    3139.24  30.4110\n",
      "2015-12-15    3241.51  27.4591\n",
      "2015-12-16    3246.78  25.4362\n",
      "2015-12-17    3306.47  22.5761\n",
      "2015-12-18    3260.72  23.8989\n",
      "2015-12-21    3213.01  23.8836\n",
      "2015-12-22    3214.32  22.5361\n",
      "2015-12-23    3286.68  20.2504\n",
      "2015-12-24    3284.47  20.2504\n",
      "2015-12-28    3256.49  22.4544\n",
      "2015-12-29    3314.28  21.6067\n",
      "2015-12-30    3287.98  22.1745\n",
      "\n",
      "[4356 rows x 2 columns]\n"
     ]
    }
   ],
   "source": [
    "data = data.fillna(method='ffill')\n",
    "data.info()\n",
    "print data"
   ]
  },
  {
   "cell_type": "code",
   "execution_count": 13,
   "metadata": {},
   "outputs": [
    {
     "data": {
      "text/html": [
       "<div>\n",
       "<table border=\"1\" class=\"dataframe\">\n",
       "  <thead>\n",
       "    <tr style=\"text-align: right;\">\n",
       "      <th></th>\n",
       "      <th>EUROSTOXX</th>\n",
       "      <th>VSTOXX</th>\n",
       "    </tr>\n",
       "  </thead>\n",
       "  <tbody>\n",
       "    <tr>\n",
       "      <th>2015-12-23</th>\n",
       "      <td>3286.68</td>\n",
       "      <td>20.2504</td>\n",
       "    </tr>\n",
       "    <tr>\n",
       "      <th>2015-12-24</th>\n",
       "      <td>3284.47</td>\n",
       "      <td>20.2504</td>\n",
       "    </tr>\n",
       "    <tr>\n",
       "      <th>2015-12-28</th>\n",
       "      <td>3256.49</td>\n",
       "      <td>22.4544</td>\n",
       "    </tr>\n",
       "    <tr>\n",
       "      <th>2015-12-29</th>\n",
       "      <td>3314.28</td>\n",
       "      <td>21.6067</td>\n",
       "    </tr>\n",
       "    <tr>\n",
       "      <th>2015-12-30</th>\n",
       "      <td>3287.98</td>\n",
       "      <td>22.1745</td>\n",
       "    </tr>\n",
       "  </tbody>\n",
       "</table>\n",
       "</div>"
      ],
      "text/plain": [
       "            EUROSTOXX   VSTOXX\n",
       "2015-12-23    3286.68  20.2504\n",
       "2015-12-24    3284.47  20.2504\n",
       "2015-12-28    3256.49  22.4544\n",
       "2015-12-29    3314.28  21.6067\n",
       "2015-12-30    3287.98  22.1745"
      ]
     },
     "execution_count": 13,
     "metadata": {},
     "output_type": "execute_result"
    }
   ],
   "source": [
    "data.tail()"
   ]
  },
  {
   "cell_type": "code",
   "execution_count": 14,
   "metadata": {},
   "outputs": [
    {
     "data": {
      "text/plain": [
       "array([<matplotlib.axes.AxesSubplot object at 0x111a04510>,\n",
       "       <matplotlib.axes.AxesSubplot object at 0x1113911d0>], dtype=object)"
      ]
     },
     "execution_count": 14,
     "metadata": {},
     "output_type": "execute_result"
    },
    {
     "data": {
      "image/png": "[encoded data removed]",
      "text/plain": [
       "<matplotlib.figure.Figure at 0x10ffa0e10>"
      ]
     },
     "metadata": {},
     "output_type": "display_data"
    }
   ],
   "source": [
    "data.plot(subplots=True, figsize=(8, 6), grid=True, style='b')"
   ]
  },
  {
   "cell_type": "code",
   "execution_count": 15,
   "metadata": {},
   "outputs": [
    {
     "data": {
      "text/html": [
       "<div>\n",
       "<table border=\"1\" class=\"dataframe\">\n",
       "  <thead>\n",
       "    <tr style=\"text-align: right;\">\n",
       "      <th></th>\n",
       "      <th>EUROSTOXX</th>\n",
       "      <th>VSTOXX</th>\n",
       "    </tr>\n",
       "  </thead>\n",
       "  <tbody>\n",
       "    <tr>\n",
       "      <th>2015-12-23</th>\n",
       "      <td>0.022262</td>\n",
       "      <td>-0.106944</td>\n",
       "    </tr>\n",
       "    <tr>\n",
       "      <th>2015-12-24</th>\n",
       "      <td>-0.000673</td>\n",
       "      <td>0.000000</td>\n",
       "    </tr>\n",
       "    <tr>\n",
       "      <th>2015-12-28</th>\n",
       "      <td>-0.008555</td>\n",
       "      <td>0.103312</td>\n",
       "    </tr>\n",
       "    <tr>\n",
       "      <th>2015-12-29</th>\n",
       "      <td>0.017590</td>\n",
       "      <td>-0.038483</td>\n",
       "    </tr>\n",
       "    <tr>\n",
       "      <th>2015-12-30</th>\n",
       "      <td>-0.007967</td>\n",
       "      <td>0.025940</td>\n",
       "    </tr>\n",
       "  </tbody>\n",
       "</table>\n",
       "</div>"
      ],
      "text/plain": [
       "            EUROSTOXX    VSTOXX\n",
       "2015-12-23   0.022262 -0.106944\n",
       "2015-12-24  -0.000673  0.000000\n",
       "2015-12-28  -0.008555  0.103312\n",
       "2015-12-29   0.017590 -0.038483\n",
       "2015-12-30  -0.007967  0.025940"
      ]
     },
     "execution_count": 15,
     "metadata": {},
     "output_type": "execute_result"
    }
   ],
   "source": [
    "rets = np.log(data / data.shift(1))\n",
    "rets = rets.fillna(method='bfill')\n",
    "rets.tail()"
   ]
  },
  {
   "cell_type": "code",
   "execution_count": 16,
   "metadata": {},
   "outputs": [
    {
     "data": {
      "text/plain": [
       "array([<matplotlib.axes.AxesSubplot object at 0x1114b4b10>,\n",
       "       <matplotlib.axes.AxesSubplot object at 0x112039490>], dtype=object)"
      ]
     },
     "execution_count": 16,
     "metadata": {},
     "output_type": "execute_result"
    },
    {
     "data": {
      "image/png": "[encoded data removed]",
      "text/plain": [
       "<matplotlib.figure.Figure at 0x10c421910>"
      ]
     },
     "metadata": {},
     "output_type": "display_data"
    }
   ],
   "source": [
    "rets.plot(subplots=True, grid=True, style='b', figsize=(8, 6))"
   ]
  },
  {
   "cell_type": "code",
   "execution_count": 17,
   "metadata": {},
   "outputs": [],
   "source": [
    "xdat = rets['EUROSTOXX']\n",
    "ydat = rets['VSTOXX']\n",
    "import statsmodels.api as sm \n",
    "model = sm.OLS(ydat, xdat).fit()\n",
    "predictions = model.predict(xdat)"
   ]
  },
  {
   "cell_type": "code",
   "execution_count": 18,
   "metadata": {},
   "outputs": [
    {
     "data": {
      "text/html": [
       "<table class=\"simpletable\">\n",
       "<caption>OLS Regression Results</caption>\n",
       "<tr>\n",
       "  <th>Dep. Variable:</th>         <td>VSTOXX</td>      <th>  R-squared:         </th>  <td>   0.528</td> \n",
       "</tr>\n",
       "<tr>\n",
       "  <th>Model:</th>                   <td>OLS</td>       <th>  Adj. R-squared:    </th>  <td>   0.528</td> \n",
       "</tr>\n",
       "<tr>\n",
       "  <th>Method:</th>             <td>Least Squares</td>  <th>  F-statistic:       </th>  <td>   4871.</td> \n",
       "</tr>\n",
       "<tr>\n",
       "  <th>Date:</th>             <td>Sun, 25 Feb 2018</td> <th>  Prob (F-statistic):</th>   <td>  0.00</td>  \n",
       "</tr>\n",
       "<tr>\n",
       "  <th>Time:</th>                 <td>00:13:40</td>     <th>  Log-Likelihood:    </th>  <td>  7818.8</td> \n",
       "</tr>\n",
       "<tr>\n",
       "  <th>No. Observations:</th>      <td>  4356</td>      <th>  AIC:               </th> <td>-1.564e+04</td>\n",
       "</tr>\n",
       "<tr>\n",
       "  <th>Df Residuals:</th>          <td>  4355</td>      <th>  BIC:               </th> <td>-1.563e+04</td>\n",
       "</tr>\n",
       "<tr>\n",
       "  <th>Df Model:</th>              <td>     1</td>      <th>                     </th>      <td> </td>    \n",
       "</tr>\n",
       "<tr>\n",
       "  <th>Covariance Type:</th>      <td>nonrobust</td>    <th>                     </th>      <td> </td>    \n",
       "</tr>\n",
       "</table>\n",
       "<table class=\"simpletable\">\n",
       "<tr>\n",
       "      <td></td>         <th>coef</th>     <th>std err</th>      <th>t</th>      <th>P>|t|</th>  <th>[0.025</th>    <th>0.975]</th>  \n",
       "</tr>\n",
       "<tr>\n",
       "  <th>EUROSTOXX</th> <td>   -2.8265</td> <td>    0.040</td> <td>  -69.790</td> <td> 0.000</td> <td>   -2.906</td> <td>   -2.747</td>\n",
       "</tr>\n",
       "</table>\n",
       "<table class=\"simpletable\">\n",
       "<tr>\n",
       "  <th>Omnibus:</th>       <td>1879.876</td> <th>  Durbin-Watson:     </th> <td>   1.964</td> \n",
       "</tr>\n",
       "<tr>\n",
       "  <th>Prob(Omnibus):</th>  <td> 0.000</td>  <th>  Jarque-Bera (JB):  </th> <td>58167.492</td>\n",
       "</tr>\n",
       "<tr>\n",
       "  <th>Skew:</th>           <td> 1.435</td>  <th>  Prob(JB):          </th> <td>    0.00</td> \n",
       "</tr>\n",
       "<tr>\n",
       "  <th>Kurtosis:</th>       <td>20.671</td>  <th>  Cond. No.          </th> <td>    1.00</td> \n",
       "</tr>\n",
       "</table>"
      ],
      "text/plain": [
       "<class 'statsmodels.iolib.summary.Summary'>\n",
       "\"\"\"\n",
       "                            OLS Regression Results                            \n",
       "==============================================================================\n",
       "Dep. Variable:                 VSTOXX   R-squared:                       0.528\n",
       "Model:                            OLS   Adj. R-squared:                  0.528\n",
       "Method:                 Least Squares   F-statistic:                     4871.\n",
       "Date:                Sun, 25 Feb 2018   Prob (F-statistic):               0.00\n",
       "Time:                        00:13:40   Log-Likelihood:                 7818.8\n",
       "No. Observations:                4356   AIC:                        -1.564e+04\n",
       "Df Residuals:                    4355   BIC:                        -1.563e+04\n",
       "Df Model:                           1                                         \n",
       "Covariance Type:            nonrobust                                         \n",
       "==============================================================================\n",
       "                 coef    std err          t      P>|t|      [0.025      0.975]\n",
       "------------------------------------------------------------------------------\n",
       "EUROSTOXX     -2.8265      0.040    -69.790      0.000      -2.906      -2.747\n",
       "==============================================================================\n",
       "Omnibus:                     1879.876   Durbin-Watson:                   1.964\n",
       "Prob(Omnibus):                  0.000   Jarque-Bera (JB):            58167.492\n",
       "Skew:                           1.435   Prob(JB):                         0.00\n",
       "Kurtosis:                      20.671   Cond. No.                         1.00\n",
       "==============================================================================\n",
       "\n",
       "Warnings:\n",
       "[1] Standard Errors assume that the covariance matrix of the errors is correctly specified.\n",
       "\"\"\""
      ]
     },
     "execution_count": 18,
     "metadata": {},
     "output_type": "execute_result"
    }
   ],
   "source": [
    "model.summary()"
   ]
  },
  {
   "cell_type": "code",
   "execution_count": 19,
   "metadata": {},
   "outputs": [
    {
     "name": "stdout",
     "output_type": "stream",
     "text": [
      "('Parameters: ', EUROSTOXX   -2.826475\n",
      "dtype: float64)\n",
      "('Standard errors: ', EUROSTOXX    0.0405\n",
      "dtype: float64)\n",
      "('Predicted values: ', 2015-12-02    0.008933\n",
      "2015-12-03    0.104009\n",
      "2015-12-04    0.010664\n",
      "2015-12-07   -0.024890\n",
      "2015-12-08    0.053282\n",
      "2015-12-09    0.017411\n",
      "2015-12-10    0.006251\n",
      "2015-12-11    0.058303\n",
      "2015-12-14    0.057018\n",
      "2015-12-15   -0.090613\n",
      "2015-12-16   -0.004592\n",
      "2015-12-17   -0.051491\n",
      "2015-12-18    0.039382\n",
      "2015-12-21    0.041662\n",
      "2015-12-22   -0.001152\n",
      "2015-12-23   -0.062923\n",
      "2015-12-24    0.001901\n",
      "2015-12-28    0.024182\n",
      "2015-12-29   -0.049719\n",
      "2015-12-30    0.022519\n",
      "dtype: float64)\n"
     ]
    }
   ],
   "source": [
    "print('Parameters: ', model.params)\n",
    "print('Standard errors: ', model.bse)\n",
    "print('Predicted values: ', predictions.tail(20))"
   ]
  },
  {
   "cell_type": "code",
   "execution_count": 20,
   "metadata": {},
   "outputs": [
    {
     "data": {
      "image/png": "[encoded data removed]",
      "text/plain": [
       "<matplotlib.figure.Figure at 0x11139e450>"
      ]
     },
     "metadata": {},
     "output_type": "display_data"
    }
   ],
   "source": [
    "# http://www.statsmodels.org/dev/examples/notebooks/generated/ols.html\n",
    "import matplotlib.pyplot as plt\n",
    "from statsmodels.sandbox.regression.predstd import wls_prediction_std\n",
    "\n",
    "prstd, iv_l, iv_u = wls_prediction_std(model)\n",
    "fig, ax = plt.subplots(figsize=(8,6))\n",
    "ax.plot(xdat, ydat, 'o', label=\"data\")\n",
    "ax.plot(xdat, model.fittedvalues, 'r--.', label=\"OLS\")\n",
    "ax.plot(xdat, iv_u, 'r-')\n",
    "ax.plot(xdat, iv_l, 'r-')\n",
    "ax.set_xlabel('EURO STOXX 50 returns')\n",
    "ax.set_ylabel('VSTOXX returns')\n",
    "ax.grid(True)\n",
    "ax.autoscale(tight=True)\n",
    "ax.legend(loc='best');"
   ]
  },
  {
   "cell_type": "code",
   "execution_count": 21,
   "metadata": {},
   "outputs": [
    {
     "data": {
      "text/html": [
       "<div>\n",
       "<table border=\"1\" class=\"dataframe\">\n",
       "  <thead>\n",
       "    <tr style=\"text-align: right;\">\n",
       "      <th></th>\n",
       "      <th>EUROSTOXX</th>\n",
       "      <th>VSTOXX</th>\n",
       "    </tr>\n",
       "  </thead>\n",
       "  <tbody>\n",
       "    <tr>\n",
       "      <th>EUROSTOXX</th>\n",
       "      <td>1.0000</td>\n",
       "      <td>-0.7266</td>\n",
       "    </tr>\n",
       "    <tr>\n",
       "      <th>VSTOXX</th>\n",
       "      <td>-0.7266</td>\n",
       "      <td>1.0000</td>\n",
       "    </tr>\n",
       "  </tbody>\n",
       "</table>\n",
       "</div>"
      ],
      "text/plain": [
       "           EUROSTOXX  VSTOXX\n",
       "EUROSTOXX     1.0000 -0.7266\n",
       "VSTOXX       -0.7266  1.0000"
      ]
     },
     "execution_count": 21,
     "metadata": {},
     "output_type": "execute_result"
    }
   ],
   "source": [
    "rets.corr()"
   ]
  },
  {
   "cell_type": "code",
   "execution_count": 22,
   "metadata": {
    "scrolled": true
   },
   "outputs": [
    {
     "name": "stderr",
     "output_type": "stream",
     "text": [
      "/Library/Python/2.7/site-packages/ipykernel_launcher.py:1: FutureWarning: pd.rolling_corr is deprecated for Series and will be removed in a future version, replace with \n",
      "\tSeries.rolling(window=252).corr(other=<Series>)\n",
      "  \"\"\"Entry point for launching an IPython kernel.\n"
     ]
    },
    {
     "data": {
      "text/plain": [
       "<matplotlib.axes.AxesSubplot at 0x114775450>"
      ]
     },
     "execution_count": 22,
     "metadata": {},
     "output_type": "execute_result"
    },
    {
     "data": {
      "image/png": "[encoded data removed]",
      "text/plain": [
       "<matplotlib.figure.Figure at 0x112161710>"
      ]
     },
     "metadata": {},
     "output_type": "display_data"
    }
   ],
   "source": [
    "pd.rolling_corr(rets['EUROSTOXX'], rets['VSTOXX'], window=252).plot(grid=True, style='b')"
   ]
  },
  {
   "cell_type": "markdown",
   "metadata": {},
   "source": [
    "*Note: Grew tired of working around bugs in the book, start at `High-Frequency Data` section...*  Looks like the real value of that section is learning to use the resample commands"
   ]
  }
 ],
 "metadata": {
  "kernelspec": {
   "display_name": "Python 2",
   "language": "python",
   "name": "python2"
  },
  "language_info": {
   "codemirror_mode": {
    "name": "ipython",
    "version": 2
   },
   "file_extension": ".py",
   "mimetype": "text/x-python",
   "name": "python",
   "nbconvert_exporter": "python",
   "pygments_lexer": "ipython2",
   "version": "2.7.10"
  }
 },
 "nbformat": 4,
 "nbformat_minor": 2
}
